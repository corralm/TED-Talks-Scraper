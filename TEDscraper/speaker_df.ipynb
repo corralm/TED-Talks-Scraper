{
 "cells": [
  {
   "cell_type": "code",
   "execution_count": 2,
   "metadata": {
    "execution": {
     "iopub.execute_input": "2020-08-02T03:37:13.916700Z",
     "iopub.status.busy": "2020-08-02T03:37:13.916283Z",
     "iopub.status.idle": "2020-08-02T03:37:15.010269Z",
     "shell.execute_reply": "2020-08-02T03:37:15.009347Z",
     "shell.execute_reply.started": "2020-08-02T03:37:13.916660Z"
    }
   },
   "outputs": [],
   "source": [
    "import pandas as pd\n",
    "import pickle"
   ]
  },
  {
   "cell_type": "markdown",
   "metadata": {},
   "source": [
    "Add rows for every talk that has multiple speakers\n",
    "* Goal: have one row per speaker\n",
    "* Enable search by speaker with occupation, about, and photo\n",
    "* Good for SQL\n",
    "\n",
    "How to do it?\n",
    "* Find rows with multiple speakers\n",
    "* Create new df of all speakers with talk_id\n",
    "* **Need to somehow merge speakers and their occupations**\n",
    "* Merge new df with old df\n",
    "* Remove old row with multiple speakers"
   ]
  },
  {
   "cell_type": "markdown",
   "metadata": {
    "execution": {
     "iopub.execute_input": "2020-07-29T23:59:38.725440Z",
     "iopub.status.busy": "2020-07-29T23:59:38.725055Z",
     "iopub.status.idle": "2020-07-29T23:59:38.839147Z",
     "shell.execute_reply": "2020-07-29T23:59:38.833251Z",
     "shell.execute_reply.started": "2020-07-29T23:59:38.725393Z"
    }
   },
   "source": [
    "```python\n",
    "ted_dict = {}\n",
    "\n",
    "def get_speakers():\n",
    "    for d in df['all_speakers']:\n",
    "        for idx, spk in d.items():\n",
    "            ted_dict[idx] = {'speaker': spk}\n",
    "            \n",
    "def get_occupations():\n",
    "    for d in df['occupations']:\n",
    "        for idx, occ in d.items():\n",
    "            ted_dict[idx] = {'occupation': occ}\n",
    "            \n",
    "def get_about():\n",
    "    for d in df['about_speakers']:\n",
    "        for idx, txt in d.items():\n",
    "            ted_dict[idx] = {'about_speaker': txt}\n",
    "            \n",
    "def get_photo():\n",
    "    for d in df['photo_urls']:\n",
    "        for idx, url in d.items():\n",
    "            ted_dict[idx] = {'photo_url': url}\n",
    "```"
   ]
  },
  {
   "cell_type": "markdown",
   "metadata": {
    "execution": {
     "iopub.execute_input": "2020-07-30T01:01:49.699545Z",
     "iopub.status.busy": "2020-07-30T01:01:49.699238Z",
     "iopub.status.idle": "2020-07-30T01:01:49.711538Z",
     "shell.execute_reply": "2020-07-30T01:01:49.710392Z",
     "shell.execute_reply.started": "2020-07-30T01:01:49.699513Z"
    }
   },
   "source": [
    "```python\n",
    "ted_dict = {}\n",
    "for row in df2.itertuples():\n",
    "    # check each column to see if it has multiple speakers\n",
    "    if len(row.all_speakers) > 1:\n",
    "        row_dict = {}\n",
    "        for idx, spk in row.all_speakers.items():\n",
    "            row_dict[idx] = {'speaker': spk}\n",
    "        for idx, occ in row.occupations.items():\n",
    "            row_dict[idx].update({'occupation': occ})\n",
    "        for idx, txt in row.about_speakers.items():\n",
    "            row_dict[idx].update({'about_speaker': txt})\n",
    "        for idx, url in row.photo_urls.items():\n",
    "            row_dict[idx].update({'photo_url': url})\n",
    "        for idx, _ in row_dict.items():\n",
    "            row_dict[idx].update({'talk_id': row.talk_id})\n",
    "```"
   ]
  },
  {
   "cell_type": "code",
   "execution_count": 3,
   "metadata": {
    "execution": {
     "iopub.execute_input": "2020-08-02T03:37:17.210612Z",
     "iopub.status.busy": "2020-08-02T03:37:17.210166Z",
     "iopub.status.idle": "2020-08-02T03:37:17.639573Z",
     "shell.execute_reply": "2020-08-02T03:37:17.638656Z",
     "shell.execute_reply.started": "2020-08-02T03:37:17.210558Z"
    }
   },
   "outputs": [],
   "source": [
    "# load pickle\n",
    "with open('../data/df.pkl', 'rb') as f:\n",
    "    df = pickle.load(f)"
   ]
  },
  {
   "cell_type": "code",
   "execution_count": 4,
   "metadata": {
    "execution": {
     "iopub.execute_input": "2020-08-02T03:37:17.942676Z",
     "iopub.status.busy": "2020-08-02T03:37:17.939461Z",
     "iopub.status.idle": "2020-08-02T03:37:18.054964Z",
     "shell.execute_reply": "2020-08-02T03:37:18.052544Z",
     "shell.execute_reply.started": "2020-08-02T03:37:17.940093Z"
    }
   },
   "outputs": [
    {
     "data": {
      "text/plain": [
       "(4127, 20)"
      ]
     },
     "execution_count": 4,
     "metadata": {},
     "output_type": "execute_result"
    }
   ],
   "source": [
    "df.shape"
   ]
  },
  {
   "cell_type": "code",
   "execution_count": null,
   "metadata": {},
   "outputs": [],
   "source": [
    "mul = pd.read_csv('../data/multiple_speakers_talks.csv')"
   ]
  },
  {
   "cell_type": "code",
   "execution_count": null,
   "metadata": {},
   "outputs": [],
   "source": [
    "mul.url.to_list()"
   ]
  },
  {
   "cell_type": "code",
   "execution_count": null,
   "metadata": {},
   "outputs": [],
   "source": [
    "mul_df = df.loc[(df['url'].str.contains('alicia_garza')) |\n",
    "                (df['url'].str.contains('adam_driver')) |\n",
    "                (df['url'].str.contains('diana_reiss'))]"
   ]
  },
  {
   "cell_type": "code",
   "execution_count": null,
   "metadata": {},
   "outputs": [],
   "source": [
    "mul_df"
   ]
  },
  {
   "cell_type": "code",
   "execution_count": null,
   "metadata": {},
   "outputs": [],
   "source": [
    "def speaker_level_df(df):\n",
    "    \"\"\"Returns DataFrame with a row per each speaker.\"\"\"\n",
    "    dlist = []\n",
    "    # get number of speakers\n",
    "    for row in df.itertuples():\n",
    "        num_spk = []\n",
    "        num_spk.append(len(row.all_speakers))\n",
    "        num_spk.append(len(row.occupations))\n",
    "        num_spk.append(len(row.about_speakers))\n",
    "        max_spk = max(num_spk)\n",
    "        for i in range(max_spk):\n",
    "            row_dict = {'talk_id': row.talk_id,\n",
    "                        'speaker': row.all_speakers[i],\n",
    "                        'occupation': row.occupations[i], \n",
    "                        'about_speaker': row.about_speakers[i],\n",
    "                        'photo_url': row.photo_urls[i]}\n",
    "            dlist.append(row_dict)\n",
    "    return pd.DataFrame(dlist)"
   ]
  },
  {
   "cell_type": "code",
   "execution_count": 5,
   "metadata": {
    "execution": {
     "iopub.execute_input": "2020-08-02T03:37:27.706667Z",
     "iopub.status.busy": "2020-08-02T03:37:27.706135Z",
     "iopub.status.idle": "2020-08-02T03:37:27.730931Z",
     "shell.execute_reply": "2020-08-02T03:37:27.728080Z",
     "shell.execute_reply.started": "2020-08-02T03:37:27.706573Z"
    }
   },
   "outputs": [],
   "source": [
    "def speaker_level_df(df):\n",
    "    \"\"\"Returns DataFrame with a row per each speaker.\"\"\"\n",
    "    dlist = []\n",
    "    # get number of speakers\n",
    "    for row in df.itertuples():\n",
    "        num_spk = []\n",
    "        speakers = [None, None, None, None, None, None,]\n",
    "        occupations = [None, None, None, None, None, None,]\n",
    "        about_speakers = [None, None, None, None, None, None,]\n",
    "        try:\n",
    "            if isinstance(row.all_speakers, dict):\n",
    "                num_spk.append(len(row.all_speakers))\n",
    "                speakers = row.all_speakers\n",
    "            if isinstance(row.occupations, dict):\n",
    "                num_spk.append(len(row.occupations))\n",
    "                occupations = row.occupations\n",
    "            if isinstance(row.about_speakers, dict):\n",
    "                num_spk.append(len(row.about_speakers))\n",
    "                about_speakers = row.about_speakers\n",
    "            else:\n",
    "                num_spk = [1]\n",
    "                speakers = [row.speaker_1]\n",
    "        except:\n",
    "            speakers = [row.speaker_1]\n",
    "        max_spk = max(num_spk)\n",
    "        for i in range(max_spk):\n",
    "            try:\n",
    "                if row.photo_urls[i] == '':\n",
    "                    photo_urls = [None, None, None, None, None, None,]\n",
    "                else:\n",
    "                    photo_urls = row.photo_urls\n",
    "                row_dict = {'talk_id': row.talk_id,\n",
    "                            'speaker': speakers[i],\n",
    "                            'occupation': occupations[i], \n",
    "                            'about_speaker': about_speakers[i],\n",
    "                            'photo_url': photo_urls[i]}\n",
    "                dlist.append(row_dict)\n",
    "            except:\n",
    "                row_dict = {'talk_id': row.talk_id,\n",
    "                            'speaker': speakers[i],\n",
    "                            'occupation': occupations[i], \n",
    "                            'about_speaker': about_speakers[i],\n",
    "                            'photo_url': None}\n",
    "                dlist.append(row_dict)\n",
    "    return pd.DataFrame(dlist)"
   ]
  },
  {
   "cell_type": "code",
   "execution_count": 6,
   "metadata": {
    "execution": {
     "iopub.execute_input": "2020-08-02T03:37:30.540423Z",
     "iopub.status.busy": "2020-08-02T03:37:30.539571Z",
     "iopub.status.idle": "2020-08-02T03:37:30.640157Z",
     "shell.execute_reply": "2020-08-02T03:37:30.639221Z",
     "shell.execute_reply.started": "2020-08-02T03:37:30.540326Z"
    }
   },
   "outputs": [
    {
     "data": {
      "text/html": [
       "<div>\n",
       "<style scoped>\n",
       "    .dataframe tbody tr th:only-of-type {\n",
       "        vertical-align: middle;\n",
       "    }\n",
       "\n",
       "    .dataframe tbody tr th {\n",
       "        vertical-align: top;\n",
       "    }\n",
       "\n",
       "    .dataframe thead th {\n",
       "        text-align: right;\n",
       "    }\n",
       "</style>\n",
       "<table border=\"1\" class=\"dataframe\">\n",
       "  <thead>\n",
       "    <tr style=\"text-align: right;\">\n",
       "      <th></th>\n",
       "      <th>talk_id</th>\n",
       "      <th>title</th>\n",
       "      <th>speaker_1</th>\n",
       "      <th>all_speakers</th>\n",
       "      <th>occupations</th>\n",
       "      <th>about_speakers</th>\n",
       "      <th>views</th>\n",
       "      <th>recorded_date</th>\n",
       "      <th>published_date</th>\n",
       "      <th>event</th>\n",
       "      <th>native_lang</th>\n",
       "      <th>available_lang</th>\n",
       "      <th>comments</th>\n",
       "      <th>duration</th>\n",
       "      <th>topics</th>\n",
       "      <th>related_talks</th>\n",
       "      <th>url</th>\n",
       "      <th>photo_urls</th>\n",
       "      <th>description</th>\n",
       "      <th>transcript</th>\n",
       "    </tr>\n",
       "  </thead>\n",
       "  <tbody>\n",
       "    <tr>\n",
       "      <th>2479</th>\n",
       "      <td>2757</td>\n",
       "      <td>How in vitro fertilization (IVF) works</td>\n",
       "      <td>Nassim Assefi</td>\n",
       "      <td>{0: 'Nassim Assefi', 1: 'Brian A Levine'}</td>\n",
       "      <td>{0: ['doctor', 'novelist', 'guest host'], 1: [...</td>\n",
       "      <td>{0: 'Physician-novelist and activist writer Na...</td>\n",
       "      <td>1451748</td>\n",
       "      <td>2015-05-07</td>\n",
       "      <td>2017-09-07</td>\n",
       "      <td>TED-Ed</td>\n",
       "      <td>en</td>\n",
       "      <td>[ar, el, en, es, fa, fr, he, it, ja, ko, pl, p...</td>\n",
       "      <td>None</td>\n",
       "      <td>402</td>\n",
       "      <td>[TED-Ed, human body, pregnancy, children, biol...</td>\n",
       "      <td>{24178: 'How does the thyroid manage your meta...</td>\n",
       "      <td>https://www.ted.com/talks/nassim_assefi_and_br...</td>\n",
       "      <td>{0: ''}</td>\n",
       "      <td>Infertility affects 1 in 8 couples worldwide. ...</td>\n",
       "      <td>In 1978, Louise Brown became the world's first...</td>\n",
       "    </tr>\n",
       "  </tbody>\n",
       "</table>\n",
       "</div>"
      ],
      "text/plain": [
       "     talk_id                                   title      speaker_1  \\\n",
       "2479    2757  How in vitro fertilization (IVF) works  Nassim Assefi   \n",
       "\n",
       "                                   all_speakers  \\\n",
       "2479  {0: 'Nassim Assefi', 1: 'Brian A Levine'}   \n",
       "\n",
       "                                            occupations  \\\n",
       "2479  {0: ['doctor', 'novelist', 'guest host'], 1: [...   \n",
       "\n",
       "                                         about_speakers    views  \\\n",
       "2479  {0: 'Physician-novelist and activist writer Na...  1451748   \n",
       "\n",
       "     recorded_date published_date   event native_lang  \\\n",
       "2479    2015-05-07     2017-09-07  TED-Ed          en   \n",
       "\n",
       "                                         available_lang comments duration  \\\n",
       "2479  [ar, el, en, es, fa, fr, he, it, ja, ko, pl, p...     None      402   \n",
       "\n",
       "                                                 topics  \\\n",
       "2479  [TED-Ed, human body, pregnancy, children, biol...   \n",
       "\n",
       "                                          related_talks  \\\n",
       "2479  {24178: 'How does the thyroid manage your meta...   \n",
       "\n",
       "                                                    url photo_urls  \\\n",
       "2479  https://www.ted.com/talks/nassim_assefi_and_br...    {0: ''}   \n",
       "\n",
       "                                            description  \\\n",
       "2479  Infertility affects 1 in 8 couples worldwide. ...   \n",
       "\n",
       "                                             transcript  \n",
       "2479  In 1978, Louise Brown became the world's first...  "
      ]
     },
     "execution_count": 6,
     "metadata": {},
     "output_type": "execute_result"
    }
   ],
   "source": [
    "df.loc[df.talk_id == '2757', :]"
   ]
  },
  {
   "cell_type": "code",
   "execution_count": 37,
   "metadata": {
    "execution": {
     "iopub.execute_input": "2020-07-30T23:43:01.407559Z",
     "iopub.status.busy": "2020-07-30T23:43:01.407104Z",
     "iopub.status.idle": "2020-07-30T23:43:01.438913Z",
     "shell.execute_reply": "2020-07-30T23:43:01.434991Z",
     "shell.execute_reply.started": "2020-07-30T23:43:01.407517Z"
    }
   },
   "outputs": [
    {
     "data": {
      "text/html": [
       "<div>\n",
       "<style scoped>\n",
       "    .dataframe tbody tr th:only-of-type {\n",
       "        vertical-align: middle;\n",
       "    }\n",
       "\n",
       "    .dataframe tbody tr th {\n",
       "        vertical-align: top;\n",
       "    }\n",
       "\n",
       "    .dataframe thead th {\n",
       "        text-align: right;\n",
       "    }\n",
       "</style>\n",
       "<table border=\"1\" class=\"dataframe\">\n",
       "  <thead>\n",
       "    <tr style=\"text-align: right;\">\n",
       "      <th></th>\n",
       "      <th>talk_id</th>\n",
       "      <th>speaker</th>\n",
       "      <th>occupation</th>\n",
       "      <th>about_speaker</th>\n",
       "      <th>photo_url</th>\n",
       "    </tr>\n",
       "  </thead>\n",
       "  <tbody>\n",
       "    <tr>\n",
       "      <th>0</th>\n",
       "      <td>2790</td>\n",
       "      <td>Sofi Tukker</td>\n",
       "      <td>[band]</td>\n",
       "      <td>None</td>\n",
       "      <td>https://pe.tedcdn.com/images/ted/3f0481fb497c1...</td>\n",
       "    </tr>\n",
       "  </tbody>\n",
       "</table>\n",
       "</div>"
      ],
      "text/plain": [
       "  talk_id       speaker occupation about_speaker  \\\n",
       "0    2790   Sofi Tukker     [band]          None   \n",
       "\n",
       "                                           photo_url  \n",
       "0  https://pe.tedcdn.com/images/ted/3f0481fb497c1...  "
      ]
     },
     "execution_count": 37,
     "metadata": {},
     "output_type": "execute_result"
    }
   ],
   "source": [
    "# %debug\n",
    "speaker_level_df(df.loc[df.talk_id == '2790', :])"
   ]
  },
  {
   "cell_type": "code",
   "execution_count": 7,
   "metadata": {
    "execution": {
     "iopub.execute_input": "2020-08-02T03:37:35.223661Z",
     "iopub.status.busy": "2020-08-02T03:37:35.222673Z",
     "iopub.status.idle": "2020-08-02T03:37:35.268285Z",
     "shell.execute_reply": "2020-08-02T03:37:35.267142Z",
     "shell.execute_reply.started": "2020-08-02T03:37:35.223573Z"
    }
   },
   "outputs": [],
   "source": [
    "# %debug\n",
    "spk_df = speaker_level_df(df)"
   ]
  },
  {
   "cell_type": "code",
   "execution_count": 54,
   "metadata": {
    "execution": {
     "iopub.execute_input": "2020-07-30T23:49:34.197249Z",
     "iopub.status.busy": "2020-07-30T23:49:34.196873Z",
     "iopub.status.idle": "2020-07-30T23:49:34.202631Z",
     "shell.execute_reply": "2020-07-30T23:49:34.201269Z",
     "shell.execute_reply.started": "2020-07-30T23:49:34.197194Z"
    }
   },
   "outputs": [],
   "source": [
    "pd.set_option('display.max_rows', None)\n",
    "pd.set_option('display.max_colwidth', None)\n"
   ]
  },
  {
   "cell_type": "code",
   "execution_count": 8,
   "metadata": {
    "execution": {
     "iopub.execute_input": "2020-08-02T03:37:37.884107Z",
     "iopub.status.busy": "2020-08-02T03:37:37.883804Z",
     "iopub.status.idle": "2020-08-02T03:37:37.927927Z",
     "shell.execute_reply": "2020-08-02T03:37:37.913828Z",
     "shell.execute_reply.started": "2020-08-02T03:37:37.884074Z"
    }
   },
   "outputs": [
    {
     "data": {
      "text/html": [
       "<div>\n",
       "<style scoped>\n",
       "    .dataframe tbody tr th:only-of-type {\n",
       "        vertical-align: middle;\n",
       "    }\n",
       "\n",
       "    .dataframe tbody tr th {\n",
       "        vertical-align: top;\n",
       "    }\n",
       "\n",
       "    .dataframe thead th {\n",
       "        text-align: right;\n",
       "    }\n",
       "</style>\n",
       "<table border=\"1\" class=\"dataframe\">\n",
       "  <thead>\n",
       "    <tr style=\"text-align: right;\">\n",
       "      <th></th>\n",
       "      <th>talk_id</th>\n",
       "      <th>speaker</th>\n",
       "      <th>occupation</th>\n",
       "      <th>about_speaker</th>\n",
       "      <th>photo_url</th>\n",
       "    </tr>\n",
       "  </thead>\n",
       "  <tbody>\n",
       "    <tr>\n",
       "      <th>0</th>\n",
       "      <td>1</td>\n",
       "      <td>Al Gore</td>\n",
       "      <td>[climate advocate]</td>\n",
       "      <td>Nobel Laureate Al Gore focused the world's att...</td>\n",
       "      <td>https://pe.tedcdn.com/images/ted/93b12c098c0aa...</td>\n",
       "    </tr>\n",
       "    <tr>\n",
       "      <th>1</th>\n",
       "      <td>92</td>\n",
       "      <td>Hans Rosling</td>\n",
       "      <td>[global health expert; data visionary]</td>\n",
       "      <td>In Hans Rosling’s hands, data sings. Global tr...</td>\n",
       "      <td>https://pe.tedcdn.com/images/ted/2bd4d0cfff0c3...</td>\n",
       "    </tr>\n",
       "    <tr>\n",
       "      <th>2</th>\n",
       "      <td>7</td>\n",
       "      <td>David Pogue</td>\n",
       "      <td>[technology columnist]</td>\n",
       "      <td>David Pogue is the personal technology columni...</td>\n",
       "      <td>https://pe.tedcdn.com/images/ted/1437_253x190.jpg</td>\n",
       "    </tr>\n",
       "    <tr>\n",
       "      <th>3</th>\n",
       "      <td>53</td>\n",
       "      <td>Majora Carter</td>\n",
       "      <td>[activist for environmental justice]</td>\n",
       "      <td>Majora Carter redefined the field of environme...</td>\n",
       "      <td>https://pe.tedcdn.com/images/ted/1320_254x191.jpg</td>\n",
       "    </tr>\n",
       "    <tr>\n",
       "      <th>4</th>\n",
       "      <td>66</td>\n",
       "      <td>Sir Ken Robinson</td>\n",
       "      <td>[author, educator]</td>\n",
       "      <td>Creativity expert Sir Ken Robinson challenges ...</td>\n",
       "      <td>https://pe.tedcdn.com/images/ted/1465_254x191.jpg</td>\n",
       "    </tr>\n",
       "  </tbody>\n",
       "</table>\n",
       "</div>"
      ],
      "text/plain": [
       "  talk_id           speaker                              occupation  \\\n",
       "0       1           Al Gore                      [climate advocate]   \n",
       "1      92      Hans Rosling  [global health expert; data visionary]   \n",
       "2       7       David Pogue                  [technology columnist]   \n",
       "3      53     Majora Carter    [activist for environmental justice]   \n",
       "4      66  Sir Ken Robinson                      [author, educator]   \n",
       "\n",
       "                                       about_speaker  \\\n",
       "0  Nobel Laureate Al Gore focused the world's att...   \n",
       "1  In Hans Rosling’s hands, data sings. Global tr...   \n",
       "2  David Pogue is the personal technology columni...   \n",
       "3  Majora Carter redefined the field of environme...   \n",
       "4  Creativity expert Sir Ken Robinson challenges ...   \n",
       "\n",
       "                                           photo_url  \n",
       "0  https://pe.tedcdn.com/images/ted/93b12c098c0aa...  \n",
       "1  https://pe.tedcdn.com/images/ted/2bd4d0cfff0c3...  \n",
       "2  https://pe.tedcdn.com/images/ted/1437_253x190.jpg  \n",
       "3  https://pe.tedcdn.com/images/ted/1320_254x191.jpg  \n",
       "4  https://pe.tedcdn.com/images/ted/1465_254x191.jpg  "
      ]
     },
     "execution_count": 8,
     "metadata": {},
     "output_type": "execute_result"
    }
   ],
   "source": [
    "spk_df.head()"
   ]
  },
  {
   "cell_type": "code",
   "execution_count": 9,
   "metadata": {
    "execution": {
     "iopub.execute_input": "2020-08-02T03:37:41.379212Z",
     "iopub.status.busy": "2020-08-02T03:37:41.378750Z",
     "iopub.status.idle": "2020-08-02T03:37:41.432779Z",
     "shell.execute_reply": "2020-08-02T03:37:41.414522Z",
     "shell.execute_reply.started": "2020-08-02T03:37:41.379154Z"
    }
   },
   "outputs": [
    {
     "data": {
      "text/html": [
       "<div>\n",
       "<style scoped>\n",
       "    .dataframe tbody tr th:only-of-type {\n",
       "        vertical-align: middle;\n",
       "    }\n",
       "\n",
       "    .dataframe tbody tr th {\n",
       "        vertical-align: top;\n",
       "    }\n",
       "\n",
       "    .dataframe thead th {\n",
       "        text-align: right;\n",
       "    }\n",
       "</style>\n",
       "<table border=\"1\" class=\"dataframe\">\n",
       "  <thead>\n",
       "    <tr style=\"text-align: right;\">\n",
       "      <th></th>\n",
       "      <th>talk_id</th>\n",
       "      <th>speaker</th>\n",
       "      <th>occupation</th>\n",
       "      <th>about_speaker</th>\n",
       "      <th>photo_url</th>\n",
       "    </tr>\n",
       "  </thead>\n",
       "  <tbody>\n",
       "    <tr>\n",
       "      <th>297</th>\n",
       "      <td>353</td>\n",
       "      <td>David S. Rose</td>\n",
       "      <td>[angel investor]</td>\n",
       "      <td>\"The Pitch Coach\" David S. Rose is an expert o...</td>\n",
       "      <td>None</td>\n",
       "    </tr>\n",
       "    <tr>\n",
       "      <th>1006</th>\n",
       "      <td>1244</td>\n",
       "      <td>Ian Ritchie</td>\n",
       "      <td>[software entrepreneur]</td>\n",
       "      <td>None</td>\n",
       "      <td>https://pe.tedcdn.com/images/ted/0b117eb3cf69c...</td>\n",
       "    </tr>\n",
       "    <tr>\n",
       "      <th>1165</th>\n",
       "      <td>1407</td>\n",
       "      <td>Rick Falkvinge</td>\n",
       "      <td>None</td>\n",
       "      <td>Rick Falkvinge, didn’t plan on becoming a poli...</td>\n",
       "      <td>https://pe.tedcdn.com/images/ted/d13dad96a8770...</td>\n",
       "    </tr>\n",
       "    <tr>\n",
       "      <th>1194</th>\n",
       "      <td>1436</td>\n",
       "      <td>Gary Kovacs</td>\n",
       "      <td>None</td>\n",
       "      <td>Gary Kovacs is a technologist and the former C...</td>\n",
       "      <td>https://pe.tedcdn.com/images/ted/eb8ff9cd54ca5...</td>\n",
       "    </tr>\n",
       "    <tr>\n",
       "      <th>1266</th>\n",
       "      <td>1515</td>\n",
       "      <td>Matt Mills</td>\n",
       "      <td>None</td>\n",
       "      <td>Matt Mills comes from Aurasma, a startup that ...</td>\n",
       "      <td>https://pe.tedcdn.com/images/ted/c3cad40b2b629...</td>\n",
       "    </tr>\n",
       "    <tr>\n",
       "      <th>...</th>\n",
       "      <td>...</td>\n",
       "      <td>...</td>\n",
       "      <td>...</td>\n",
       "      <td>...</td>\n",
       "      <td>...</td>\n",
       "    </tr>\n",
       "    <tr>\n",
       "      <th>4273</th>\n",
       "      <td>64915</td>\n",
       "      <td>Susan Lupack</td>\n",
       "      <td>None</td>\n",
       "      <td>None</td>\n",
       "      <td>None</td>\n",
       "    </tr>\n",
       "    <tr>\n",
       "      <th>4277</th>\n",
       "      <td>64914</td>\n",
       "      <td>Alex Gendler</td>\n",
       "      <td>None</td>\n",
       "      <td>None</td>\n",
       "      <td>None</td>\n",
       "    </tr>\n",
       "    <tr>\n",
       "      <th>4279</th>\n",
       "      <td>65058</td>\n",
       "      <td>Philip Freeman</td>\n",
       "      <td>None</td>\n",
       "      <td>None</td>\n",
       "      <td>None</td>\n",
       "    </tr>\n",
       "    <tr>\n",
       "      <th>4281</th>\n",
       "      <td>65280</td>\n",
       "      <td>Iseult Gillespie</td>\n",
       "      <td>None</td>\n",
       "      <td>None</td>\n",
       "      <td>None</td>\n",
       "    </tr>\n",
       "    <tr>\n",
       "      <th>4284</th>\n",
       "      <td>65059</td>\n",
       "      <td>Gareth Gaskell</td>\n",
       "      <td>None</td>\n",
       "      <td>None</td>\n",
       "      <td>None</td>\n",
       "    </tr>\n",
       "  </tbody>\n",
       "</table>\n",
       "<p>665 rows × 5 columns</p>\n",
       "</div>"
      ],
      "text/plain": [
       "     talk_id           speaker               occupation  \\\n",
       "297      353     David S. Rose         [angel investor]   \n",
       "1006    1244       Ian Ritchie  [software entrepreneur]   \n",
       "1165    1407    Rick Falkvinge                     None   \n",
       "1194    1436       Gary Kovacs                     None   \n",
       "1266    1515        Matt Mills                     None   \n",
       "...      ...               ...                      ...   \n",
       "4273   64915      Susan Lupack                     None   \n",
       "4277   64914      Alex Gendler                     None   \n",
       "4279   65058    Philip Freeman                     None   \n",
       "4281   65280  Iseult Gillespie                     None   \n",
       "4284   65059    Gareth Gaskell                     None   \n",
       "\n",
       "                                          about_speaker  \\\n",
       "297   \"The Pitch Coach\" David S. Rose is an expert o...   \n",
       "1006                                               None   \n",
       "1165  Rick Falkvinge, didn’t plan on becoming a poli...   \n",
       "1194  Gary Kovacs is a technologist and the former C...   \n",
       "1266  Matt Mills comes from Aurasma, a startup that ...   \n",
       "...                                                 ...   \n",
       "4273                                               None   \n",
       "4277                                               None   \n",
       "4279                                               None   \n",
       "4281                                               None   \n",
       "4284                                               None   \n",
       "\n",
       "                                              photo_url  \n",
       "297                                                None  \n",
       "1006  https://pe.tedcdn.com/images/ted/0b117eb3cf69c...  \n",
       "1165  https://pe.tedcdn.com/images/ted/d13dad96a8770...  \n",
       "1194  https://pe.tedcdn.com/images/ted/eb8ff9cd54ca5...  \n",
       "1266  https://pe.tedcdn.com/images/ted/c3cad40b2b629...  \n",
       "...                                                 ...  \n",
       "4273                                               None  \n",
       "4277                                               None  \n",
       "4279                                               None  \n",
       "4281                                               None  \n",
       "4284                                               None  \n",
       "\n",
       "[665 rows x 5 columns]"
      ]
     },
     "execution_count": 9,
     "metadata": {},
     "output_type": "execute_result"
    }
   ],
   "source": [
    "spk_df.loc[(spk_df['occupation'].isna()) |\n",
    "           (spk_df['about_speaker'].isna()) |\n",
    "           (spk_df['photo_url'].isna())]"
   ]
  },
  {
   "cell_type": "code",
   "execution_count": 13,
   "metadata": {
    "execution": {
     "iopub.execute_input": "2020-08-02T03:39:52.973835Z",
     "iopub.status.busy": "2020-08-02T03:39:52.973388Z",
     "iopub.status.idle": "2020-08-02T03:39:53.008065Z",
     "shell.execute_reply": "2020-08-02T03:39:53.003259Z",
     "shell.execute_reply.started": "2020-08-02T03:39:52.973802Z"
    }
   },
   "outputs": [],
   "source": [
    "merged_df = pd.merge(spk_df, df, how='left', on='talk_id')"
   ]
  },
  {
   "cell_type": "code",
   "execution_count": 14,
   "metadata": {
    "execution": {
     "iopub.execute_input": "2020-08-02T03:40:01.643695Z",
     "iopub.status.busy": "2020-08-02T03:40:01.643388Z",
     "iopub.status.idle": "2020-08-02T03:40:01.685634Z",
     "shell.execute_reply": "2020-08-02T03:40:01.683079Z",
     "shell.execute_reply.started": "2020-08-02T03:40:01.643663Z"
    }
   },
   "outputs": [
    {
     "name": "stdout",
     "output_type": "stream",
     "text": [
      "<class 'pandas.core.frame.DataFrame'>\n",
      "Int64Index: 4285 entries, 0 to 4284\n",
      "Data columns (total 24 columns):\n",
      " #   Column          Non-Null Count  Dtype \n",
      "---  ------          --------------  ----- \n",
      " 0   talk_id         4285 non-null   object\n",
      " 1   speaker         4285 non-null   object\n",
      " 2   occupation      3715 non-null   object\n",
      " 3   about_speaker   3745 non-null   object\n",
      " 4   photo_url       3634 non-null   object\n",
      " 5   title           4285 non-null   object\n",
      " 6   speaker_1       4285 non-null   object\n",
      " 7   all_speakers    4281 non-null   object\n",
      " 8   occupations     3715 non-null   object\n",
      " 9   about_speakers  3745 non-null   object\n",
      " 10  views           4285 non-null   object\n",
      " 11  recorded_date   4284 non-null   object\n",
      " 12  published_date  4285 non-null   object\n",
      " 13  event           4285 non-null   object\n",
      " 14  native_lang     4285 non-null   object\n",
      " 15  available_lang  4285 non-null   object\n",
      " 16  comments        3572 non-null   object\n",
      " 17  duration        4285 non-null   object\n",
      " 18  topics          4285 non-null   object\n",
      " 19  related_talks   4285 non-null   object\n",
      " 20  url             4285 non-null   object\n",
      " 21  photo_urls      4285 non-null   object\n",
      " 22  description     4285 non-null   object\n",
      " 23  transcript      4285 non-null   object\n",
      "dtypes: object(24)\n",
      "memory usage: 836.9+ KB\n"
     ]
    }
   ],
   "source": [
    "merged_df.info()"
   ]
  },
  {
   "cell_type": "code",
   "execution_count": 16,
   "metadata": {
    "execution": {
     "iopub.execute_input": "2020-08-02T03:43:40.715623Z",
     "iopub.status.busy": "2020-08-02T03:43:40.715333Z",
     "iopub.status.idle": "2020-08-02T03:43:40.728749Z",
     "shell.execute_reply": "2020-08-02T03:43:40.727419Z",
     "shell.execute_reply.started": "2020-08-02T03:43:40.715590Z"
    }
   },
   "outputs": [],
   "source": [
    "drop_columns = merged_df.drop(columns=['occupations', 'about_speakers', 'photo_urls'])"
   ]
  },
  {
   "cell_type": "code",
   "execution_count": 19,
   "metadata": {
    "execution": {
     "iopub.execute_input": "2020-08-02T03:48:42.073551Z",
     "iopub.status.busy": "2020-08-02T03:48:42.072902Z",
     "iopub.status.idle": "2020-08-02T03:48:42.083724Z",
     "shell.execute_reply": "2020-08-02T03:48:42.082402Z",
     "shell.execute_reply.started": "2020-08-02T03:48:42.073481Z"
    }
   },
   "outputs": [],
   "source": [
    "drop_columns['is_main_speaker'] = (drop_columns['speaker'] == drop_columns['speaker_1'])"
   ]
  },
  {
   "cell_type": "code",
   "execution_count": 52,
   "metadata": {
    "execution": {
     "iopub.execute_input": "2020-08-02T04:00:13.851796Z",
     "iopub.status.busy": "2020-08-02T04:00:13.851492Z",
     "iopub.status.idle": "2020-08-02T04:00:13.861736Z",
     "shell.execute_reply": "2020-08-02T04:00:13.859941Z",
     "shell.execute_reply.started": "2020-08-02T04:00:13.851762Z"
    }
   },
   "outputs": [],
   "source": [
    "drop_columns['is_main_speaker'] = drop_columns['is_main_speaker'].map({True: 1, False: 0})"
   ]
  },
  {
   "cell_type": "code",
   "execution_count": 58,
   "metadata": {
    "execution": {
     "iopub.execute_input": "2020-08-02T04:06:03.963323Z",
     "iopub.status.busy": "2020-08-02T04:06:03.963027Z",
     "iopub.status.idle": "2020-08-02T04:06:03.971503Z",
     "shell.execute_reply": "2020-08-02T04:06:03.969869Z",
     "shell.execute_reply.started": "2020-08-02T04:06:03.963290Z"
    }
   },
   "outputs": [],
   "source": [
    "ted_df = drop_columns.copy()"
   ]
  },
  {
   "cell_type": "code",
   "execution_count": 63,
   "metadata": {
    "execution": {
     "iopub.execute_input": "2020-08-02T04:06:54.543958Z",
     "iopub.status.busy": "2020-08-02T04:06:54.543481Z",
     "iopub.status.idle": "2020-08-02T04:06:54.553480Z",
     "shell.execute_reply": "2020-08-02T04:06:54.552121Z",
     "shell.execute_reply.started": "2020-08-02T04:06:54.543892Z"
    }
   },
   "outputs": [
    {
     "data": {
      "text/plain": [
       "(4285, 22)"
      ]
     },
     "execution_count": 63,
     "metadata": {},
     "output_type": "execute_result"
    }
   ],
   "source": [
    "ted_df.shape"
   ]
  },
  {
   "cell_type": "code",
   "execution_count": 64,
   "metadata": {
    "execution": {
     "iopub.execute_input": "2020-08-02T04:08:29.175757Z",
     "iopub.status.busy": "2020-08-02T04:08:29.175278Z",
     "iopub.status.idle": "2020-08-02T04:08:30.709188Z",
     "shell.execute_reply": "2020-08-02T04:08:30.708160Z",
     "shell.execute_reply.started": "2020-08-02T04:08:29.175717Z"
    }
   },
   "outputs": [],
   "source": [
    "ted_df.to_csv('../datasets/2020-07-29/ted_talks_en_spk_lvl.csv')"
   ]
  },
  {
   "cell_type": "code",
   "execution_count": null,
   "metadata": {},
   "outputs": [],
   "source": []
  }
 ],
 "metadata": {
  "kernelspec": {
   "display_name": "dev",
   "language": "python",
   "name": "dev"
  },
  "language_info": {
   "codemirror_mode": {
    "name": "ipython",
    "version": 3
   },
   "file_extension": ".py",
   "mimetype": "text/x-python",
   "name": "python",
   "nbconvert_exporter": "python",
   "pygments_lexer": "ipython3",
   "version": "3.7.7"
  }
 },
 "nbformat": 4,
 "nbformat_minor": 4
}
