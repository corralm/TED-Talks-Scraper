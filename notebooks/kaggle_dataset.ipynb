{
 "cells": [
  {
   "cell_type": "markdown",
   "metadata": {
    "Collapsed": "false"
   },
   "source": [
    "# TED Talks Scraper"
   ]
  },
  {
   "cell_type": "code",
   "execution_count": 10,
   "metadata": {
    "Collapsed": "false",
    "ExecuteTime": {
     "end_time": "2020-02-24T06:56:51.108234Z",
     "start_time": "2020-02-24T06:56:47.569217Z"
    },
    "scrolled": true
   },
   "outputs": [],
   "source": [
    "import pandas as pd\n",
    "import re\n",
    "\n",
    "import requests\n",
    "from bs4 import BeautifulSoup\n",
    "from fake_useragent import UserAgent\n",
    "import time\n",
    "import random\n",
    "\n",
    "import pickle"
   ]
  },
  {
   "cell_type": "markdown",
   "metadata": {
    "Collapsed": "false",
    "heading_collapsed": true
   },
   "source": [
    "## Soup Maker"
   ]
  },
  {
   "cell_type": "code",
   "execution_count": 2,
   "metadata": {
    "Collapsed": "false"
   },
   "outputs": [],
   "source": [
    "class SoupMaker:\n",
    "    \"\"\"Make soup objects and sleep your machine.\"\"\"\n",
    "    def sleep_short(self):\n",
    "        \"\"\"Suspends execution time between .5 - 2 seconds.\"\"\"\n",
    "        return time.sleep(random.uniform(.5, 2))\n",
    "\n",
    "    def sleep_long(self):\n",
    "        \"\"\"Suspends execution time between 4 - 6 seconds.\"\"\"\n",
    "        return time.sleep(random.uniform(4, 6))\n",
    "\n",
    "    def make_soup(self, url):\n",
    "        \"\"\"Returns soup object from a URL.\"\"\"\n",
    "        # generate random user-agent\n",
    "        user_agent = {'User-agent': UserAgent().random}\n",
    "        # request page and make soup\n",
    "        page = requests.get(url, headers=user_agent)\n",
    "        soup = BeautifulSoup(page.content, 'lxml')\n",
    "        return soup\n"
   ]
  },
  {
   "cell_type": "markdown",
   "metadata": {
    "Collapsed": "false"
   },
   "source": [
    "## Talk Features"
   ]
  },
  {
   "cell_type": "code",
   "execution_count": 42,
   "metadata": {
    "Collapsed": "false"
   },
   "outputs": [],
   "source": [
    "class TalkFeatures(SoupMaker):\n",
    "    \"\"\"Class to get TED talk features.\"\"\"\n",
    "    def get_talk_id(self, soup):\n",
    "        \"\"\"Returns the talk_id provided by TED.\"\"\"\n",
    "        talk_id = re.search(r\"(?<=\\\"current_talk\\\":)\\\"(\\d+)\\\"\", soup.text).group(1)\n",
    "        return talk_id\n",
    "\n",
    "    def get_title(self, soup):\n",
    "        \"\"\"Returns the title of the talk.\"\"\"\n",
    "        title_tag = soup.find(attrs={'name': 'title'}).attrs['content']\n",
    "        title = title_tag.split(':')[1].strip()\n",
    "        return title\n",
    "\n",
    "    def get_speakers(self, soup):\n",
    "        \"\"\"Returns dict of all speakers per talk.\"\"\"\n",
    "        speaker_tag = re.findall(r\"(?<=\\\"speakers\\\":).*?\\\"}]\", soup.text)[0]\n",
    "        # convert to DataFrame\n",
    "        speakers_df = pd.read_json(speaker_tag)\n",
    "        full_name_raw = (speakers_df.loc[:, 'firstname'] + ' '\n",
    "                     + speakers_df.loc[:, 'middleinitial'] + ' '\n",
    "                     + speakers_df.loc[:, 'lastname'])\n",
    "        full_name_clean = full_name_raw.str.replace('\\s+', ' ')\n",
    "        # transform series to a dict\n",
    "        speakers = full_name_clean.to_dict()\n",
    "        return speakers\n",
    "\n",
    "    def get_occupations(self, soup):\n",
    "        \"\"\"Returns list of the occupation(s) of the speaker(s) per talk.\"\"\"\n",
    "        occupations_tag = re.findall(r\"(?<=\\\"speakers\\\":).*?\\\"}]\", soup.text)[0]\n",
    "        # convert json to DataFrame\n",
    "        occupations_series = pd.read_json(occupations_tag)['description']\n",
    "        if occupations_series.all():\n",
    "            # clean and create dict\n",
    "            occupations = occupations_series.str.lower().str.split(', ')\n",
    "            occupations = occupations.to_dict()\n",
    "        else:\n",
    "            occupations = None\n",
    "        return occupations\n",
    "\n",
    "    def get_about_speakers(self, soup):\n",
    "        \"\"\"Returns dict with each 'About the Speaker' blurb per talk.\"\"\"\n",
    "        speaker_tag = re.findall(r\"(?<=\\\"speakers\\\":).*?\\\"}]\", soup.text)[0]\n",
    "        # convert to DataFrame\n",
    "        about_series = pd.read_json(speaker_tag)['whotheyare']\n",
    "        if about_series.all():\n",
    "            # transform series to a dict\n",
    "            about_speakers = about_series.to_dict()\n",
    "        else:\n",
    "            about_speakers = None\n",
    "        return about_speakers\n",
    "\n",
    "    def get_views(self, soup):\n",
    "        \"\"\"Returns viewed count per talk.\"\"\"\n",
    "        view_count = re.search(r\"(?<=\\\"viewed_count\\\":)\\d+\", soup.text).group(0)\n",
    "        return view_count\n",
    "\n",
    "    def get_recorded_date(self, soup):\n",
    "        \"\"\"Returns date a talk was recorded.\"\"\"\n",
    "        recorded_at = re.search(r\"(?<=\\\"recorded_at\\\":)\\\"(.*?)T\", soup.text).group(1)\n",
    "        return recorded_at\n",
    "\n",
    "    def get_published_date(self, soup):\n",
    "        \"\"\"Returns date a talk was published in TED.com.\"\"\"\n",
    "        published_at = soup.find(attrs={'itemprop': 'uploadDate'}).attrs['content']\n",
    "        return published_at\n",
    "\n",
    "    def get_event(self, soup):\n",
    "        \"\"\"Returns name of the event in which the talk was given.\"\"\"\n",
    "        event = re.search(r\"(?<=\\\"event\\\":)\\\"(.*?)\\\"\", soup.text).group(1)\n",
    "        return event\n",
    "    \n",
    "    def get_native_lang(self, soup):\n",
    "        \"\"\"Returns native language code for each talk as a string.\"\"\"\n",
    "        native_lang = re.search(r'(?<=nativeLanguage\\\":\\\")[\\w-]+', soup.text).group(0)\n",
    "        return native_lang\n",
    "    \n",
    "    def get_available_lang(self, soup):\n",
    "        \"\"\"Returns list of all available languages (lang codes) for a talk.\"\"\"\n",
    "        languages = re.findall(r'(?<=languageCode\\\":\\\")[\\w-]+', soup.text)\n",
    "        clean_lang = sorted(list(set(languages)))\n",
    "        return clean_lang\n",
    "\n",
    "    def get_comments_count(self, soup):\n",
    "        \"\"\"Return the count of comments per talk.\"\"\"\n",
    "        try:\n",
    "            comments_count = re.search(r\"(?<=\\\"count\\\":)(\\d+)\", soup.text).group(1)\n",
    "        except AttributeError:\n",
    "            comments_count = None\n",
    "        return comments_count\n",
    "\n",
    "    def get_duration(self, soup):\n",
    "        \"\"\"Returns duration of a talk (format ex: 12M43S)\"\"\"\n",
    "        duration_tag = soup.find(attrs={'itemprop': 'duration'}).attrs['content']\n",
    "        duration = duration_tag.split('PT')[1]\n",
    "        return duration\n",
    "\n",
    "    def get_duration_sec(self, soup):\n",
    "        \"\"\"Returns duration of a talk in seconds.\"\"\"\n",
    "        duration =  re.search(r\"(?<=\\\"duration\\\":)(\\d+)\", soup.text).group(1)\n",
    "        return duration\n",
    "\n",
    "    def get_topic_tags(self, soup):\n",
    "        \"\"\"Returns list of tags (topics) per talk.\"\"\"\n",
    "        match_obj = re.search(r\"\\\"tag\\\":\\\"(.*?)\\\"\", soup.text)\n",
    "        tags = match_obj.group(1).split(',')\n",
    "        return tags\n",
    "\n",
    "    def get_related_talks(self, soup):\n",
    "        \"\"\"Returns dict (keys: id & title) of related talks.\"\"\"\n",
    "        related_tag = re.search(r\"(?<=\\\"related_talks\\\":).*?]\", soup.text).group(0)\n",
    "        related_series = pd.read_json(related_tag)\n",
    "        related_talks = related_series.loc[:, ['id', 'title']].to_dict()\n",
    "        return related_talks\n",
    "\n",
    "    def get_talk_url(self, soup):\n",
    "        \"\"\"Returns url for each talk as a string.\"\"\"\n",
    "        talk_tag = soup.find(attrs={'property': 'og:url'}).attrs['content']\n",
    "        talk_url = talk_tag.split('/transcript')[0]\n",
    "        return talk_url\n",
    "\n",
    "    def get_talk_description(self, soup):\n",
    "        \"\"\"Returns description of the talk.\"\"\"\n",
    "        desc_tag = soup.find(attrs={'property': 'og:description'}).attrs['content']\n",
    "        talk_desc = desc_tag.split(': ', 1)[1]\n",
    "        return talk_desc\n",
    "\n",
    "    def get_transcript(self, soup):\n",
    "        \"\"\"Returns talk's transcript as a single string.\"\"\" \n",
    "        transcript = ''\n",
    "        transcript_strings = []\n",
    "        for div in soup.find_all('div', class_=\"Grid__cell flx-s:1 p-r:4\"):\n",
    "            for p in div.find_all('p'):\n",
    "                # add every string in the transcript to a list\n",
    "                transcript_strings.append(\" \".join(p.text.split()))\n",
    "            else:\n",
    "                # after all strings have been added, create a single transcript string\n",
    "                transcript = \" \".join(transcript_strings)\n",
    "        return transcript\n"
   ]
  },
  {
   "cell_type": "markdown",
   "metadata": {
    "Collapsed": "false"
   },
   "source": [
    "## TED Scraper"
   ]
  },
  {
   "cell_type": "code",
   "execution_count": 43,
   "metadata": {
    "Collapsed": "false"
   },
   "outputs": [],
   "source": [
    "class TEDscraper(TalkFeatures):\n",
    "    \"\"\"Gets urls and scrapes TED talk data in specified language\n",
    "    Attributes:\n",
    "        lang (str): Language code. Defaults to 'en'.\n",
    "        urls (list): URLs to be scraped. Defaults to 'all'.\n",
    "        exclude (bool): Exclude transcript. Defaults to False.\n",
    "        ted_dict (dict): Dict to store ted talk features after scraping\n",
    "        dict_id (int): Index of nested dict in 'ted_dict'.\n",
    "        failed_counter: Counts urls that failed to get scraped\n",
    "    \"\"\"\n",
    "    def __init__(self, lang='en', urls='all', exclude_transcript=False):\n",
    "        self.lang = lang\n",
    "        self.urls = urls\n",
    "        self.exclude = exclude_transcript\n",
    "        self.ted_dict = {}\n",
    "        self.dict_id = 0\n",
    "        self.failed_counter = 0\n",
    "\n",
    "    def get_languages(self):\n",
    "        \"\"\"Returns DataFrame of all language codes supported by TED.\"\"\"\n",
    "        lang_url = 'https://www.ted.com/participate/translate/our-languages'\n",
    "        soup = self.make_soup(lang_url)\n",
    "        lang_list = []\n",
    "        lang_tags = soup.find_all('div', class_='h9')\n",
    "        for tag in lang_tags:\n",
    "            if tag.a == None:\n",
    "                continue\n",
    "            else:\n",
    "                lang_code = re.search(r'(?<=\\=)[\\w-]+', tag.a['href']).group(0)\n",
    "                lang_name = tag.text\n",
    "                lang_list.append([lang_code] + [lang_name])\n",
    "        lang_df = pd.DataFrame(data=lang_list, columns=['code', 'language'])\n",
    "        return lang_df\n",
    "\n",
    "    def get_max_page(self):\n",
    "        \"\"\"Returns max pagination number from www.ted.com/talks.\"\"\"\n",
    "        page_num = [1]\n",
    "        # make soup from ted.com/talks with specified language\n",
    "        soup = self.make_soup('https://www.ted.com/talks?language='\n",
    "                              + self.lang + '&page=1&sort=newest')\n",
    "        # iterate through each pagination element and get the max\n",
    "        page_elem = soup.find_all('a', class_='pagination__item pagination__link')\n",
    "        for element in page_elem:\n",
    "            page_num.append(int(element.text))\n",
    "        return max(page_num)\n",
    "    \n",
    "    def get_all_url_paths(self):\n",
    "        \"\"\"Returns list of all the talk url paths available in www.ted.com/talks\"\"\"\n",
    "        url_path_list = []\n",
    "        # construct url with lang code specified by the user\n",
    "        talks_url = ('https://www.ted.com/talks?language='\n",
    "                    + self.lang + '&page=')\n",
    "        # set range from 1 to the max page in the pagination element\n",
    "        page_range = range(self.get_max_page())\n",
    "        # iterate through each page and get the url for each talk\n",
    "        for i in page_range:\n",
    "            # try a second attempt if first attempt fails\n",
    "            for attempt in range(2):\n",
    "                try:\n",
    "                    talks_page_url = talks_url + str(i) + '&sort=newest'\n",
    "                    soup = self.make_soup(talks_page_url)\n",
    "                    # delay between searches\n",
    "                    self.sleep_short()\n",
    "                    for div in soup.find_all('div', attrs={'class': 'media__image'}):\n",
    "                        for a in div.find_all('a'):\n",
    "                            url_path_list.append(a.get('href'))\n",
    "                except:\n",
    "                    # delay before continuing to second attempt\n",
    "                    self.sleep_long()\n",
    "                # break from attempts loop if no exceptions are raised\n",
    "                else:\n",
    "                    break\n",
    "        return url_path_list\n",
    "\n",
    "    def get_all_urls(self):\n",
    "        \"\"\"Returns list of complete urls for each talk's transcript page.\"\"\"\n",
    "        url_list = []\n",
    "        for url in self.get_all_url_paths():\n",
    "            url_list.append(('https://www.ted.com'\n",
    "                             + url.replace(\n",
    "                                 # to replace\n",
    "                                 '?language=' + self.lang,\n",
    "                                 # replace with\n",
    "                                 '/transcript' + '?language=' + self.lang)\n",
    "                            ))\n",
    "        return url_list\n",
    "    \n",
    "    def clean_urls(self, urls):\n",
    "        \"\"\"Returns list of clean urls from urls the user inputs.\"\"\"\n",
    "        clean_urls = []\n",
    "        for idx, url in enumerate(urls):\n",
    "            if url.startswith('https://www.ted.com/talks'):\n",
    "                parts = url.split('/')\n",
    "                joined = '/'.join(parts[:5])\n",
    "                clean = joined.split('?')\n",
    "                lang = clean[0] + '/transcript?language=' + self.lang\n",
    "                clean_urls.append(lang)\n",
    "            else:\n",
    "                print(f'bad url @ {idx} >> {url}')\n",
    "                continue\n",
    "        return clean_urls\n",
    "    \n",
    "    def scrape_all_features(self, soup):\n",
    "        \"\"\"Scrapes all features to a nested dict.\"\"\"\n",
    "        # create nested dict\n",
    "        self.ted_dict[self.dict_id] = {}\n",
    "        nested_dict = self.ted_dict[self.dict_id]\n",
    "        # add the features to the nested dict\n",
    "        nested_dict['talk_id'] = self.get_talk_id(soup)\n",
    "        nested_dict['title'] = self.get_title(soup)\n",
    "        nested_dict['speakers'] = self.get_speakers(soup)\n",
    "        nested_dict['occupations'] = self.get_occupations(soup)\n",
    "        nested_dict['about_speakers'] = self.get_about_speakers(soup)\n",
    "        nested_dict['views'] = self.get_views(soup)\n",
    "        nested_dict['recorded_date'] = self.get_recorded_date(soup)\n",
    "        nested_dict['published_date'] = self.get_published_date(soup)\n",
    "        nested_dict['event'] = self.get_event(soup)\n",
    "        nested_dict['native_lang'] = self.get_native_lang(soup)\n",
    "        nested_dict['available_lang'] = self.get_available_lang(soup)\n",
    "        nested_dict['comments'] = self.get_comments_count(soup)\n",
    "        nested_dict['duration'] = self.get_duration(soup)\n",
    "        nested_dict['duration_sec'] = self.get_duration_sec(soup)\n",
    "        nested_dict['topic_tags'] = self.get_topic_tags(soup)\n",
    "        nested_dict['related_talks'] = self.get_related_talks(soup)\n",
    "        nested_dict['talk_url'] = self.get_talk_url(soup)\n",
    "        nested_dict['talk_description'] = self.get_talk_description(soup)\n",
    "        # add transcript if param is set to False (default)\n",
    "        if not self.exclude:\n",
    "            nested_dict['transcript'] = self.get_transcript(soup)\n",
    "        return nested_dict\n",
    "\n",
    "    def get_data(self):\n",
    "        \"\"\"Returns nested dictionary of features from each talk's transcript page.\"\"\"\n",
    "        print(\"Getting all urls...\")\n",
    "        # define url attribute\n",
    "        if self.urls == 'all':\n",
    "            urls = self.get_all_urls()\n",
    "        else:\n",
    "            if isinstance(self.urls, list):\n",
    "                urls = self.clean_urls(self.urls)\n",
    "            else:\n",
    "                print(\"'urls' param needs to be a list\")\n",
    "        print(f\"Scraping {len(urls)} TED talks in '{self.lang}'...\")\n",
    "#         print(f\"Estimated scrape time is {(1.5*len(urls)/60)} minutes\\n\")\n",
    "        # iterate through each ted talk transcript url\n",
    "        for url in urls:\n",
    "            # make soup\n",
    "            soup = self.make_soup(url)\n",
    "            # taste soup\n",
    "            taster = soup.title.text\n",
    "            bad_soup = re.search(r'404: Not Found', taster)\n",
    "            if bad_soup:\n",
    "                print(f\"\\nBad soup! TED might not have this talk available in \"\n",
    "                      f\"'{self.lang}'. Check the url\\n{url}\\n\")\n",
    "                self.failed_counter += 1\n",
    "                continue\n",
    "            # delay between searches\n",
    "            self.sleep_short()\n",
    "            # try up to three attempts to scrape data\n",
    "            for attempt in range(1, 3+1):\n",
    "                try:\n",
    "                    # create nested dict\n",
    "                    self.ted_dict[self.dict_id] = {}\n",
    "                    # scrape features and add to a nested dict\n",
    "                    self.scrape_all_features(soup)\n",
    "                    # indicate successful scrape\n",
    "                    print(self.dict_id, url)\n",
    "                    # add 1 to create a new nested dict\n",
    "                    self.dict_id += 1\n",
    "                except Exception as e:\n",
    "                    # if the last attempt fails, update the failed counter\n",
    "                    # and print the exception & talk url\n",
    "                    if attempt == 3:\n",
    "                        self.failed_counter += 1\n",
    "                        print(f'position: {self.dict_id}, exception: {e}, url: {url}\\n')\n",
    "                        continue\n",
    "                    # delay before another attempt\n",
    "                    self.sleep_long()\n",
    "                # break if no exceptions are raised\n",
    "                else:\n",
    "                    break\n",
    "        print(f\"\"\"\\nTed.com scraping results:\n",
    "            \\n\\t• Successful: {self.dict_id}\n",
    "            \\n\\t• Failed: {self.failed_counter}\\n\"\"\")\n",
    "        return self.ted_dict\n",
    "    \n",
    "    def to_dataframe(self, ted_dict):\n",
    "        \"\"\"Creates DataFrame object from dict.\"\"\"\n",
    "        df = pd.DataFrame.from_dict(ted_dict, orient='index')\n",
    "        return df\n"
   ]
  },
  {
   "cell_type": "markdown",
   "metadata": {
    "Collapsed": "false"
   },
   "source": [
    "# Testing"
   ]
  },
  {
   "cell_type": "markdown",
   "metadata": {
    "Collapsed": "false"
   },
   "source": [
    "Output types\n",
    "https://pandas.pydata.org/pandas-docs/stable/reference/frame.html#serialization-io-conversion"
   ]
  },
  {
   "cell_type": "code",
   "execution_count": 56,
   "metadata": {
    "Collapsed": "false"
   },
   "outputs": [],
   "source": [
    "#Troubleshooting\n",
    "# exception: Unmatched ''\"' when when decoding 'string', url: https://www.ted.com/talks/michael_anti_behind_the_great_firewall_of_china/transcript?language=bo\n",
    "unmatched_urls = [\n",
    "                  'https://www.ted.com/talks/michael_anti_behind_the_great_firewall_of_china/transcript?language=bo',\n",
    "#                   'https://www.ted.com/talks/isaac_mizrahi_how_the_button_changed_fashion/transcript?language=hi',\n",
    "#                   'https://www.ted.com/talks/herman_narula_the_transformative_power_of_video_games/transcript?language=hi'\n",
    "                 ]\n"
   ]
  },
  {
   "cell_type": "code",
   "execution_count": 57,
   "metadata": {
    "Collapsed": "false"
   },
   "outputs": [],
   "source": [
    "unmatched_scraper = TEDscraper(lang='bo', urls=unmatched_urls)"
   ]
  },
  {
   "cell_type": "code",
   "execution_count": 58,
   "metadata": {
    "Collapsed": "false"
   },
   "outputs": [
    {
     "name": "stdout",
     "output_type": "stream",
     "text": [
      "Getting all urls...\n",
      "Scraping 1 TED talks in 'bo'...\n",
      "0 https://www.ted.com/talks/michael_anti_behind_the_great_firewall_of_china/transcript?language=bo\n",
      "\n",
      "Ted.com scraping results:\n",
      "            \n",
      "\t• Successful: 1\n",
      "            \n",
      "\t• Failed: 0\n",
      "\n"
     ]
    },
    {
     "data": {
      "text/plain": [
       "{0: {'talk_id': '1523',\n",
       "  'title': 'མ་ཨི་ཁལ་ཨེན་ཊིཿ་རྒྱ་ནག་གི་ཆ་འཕྲིན་ལྕགས་རིའི་ལྟག་རྒྱབ་ཏུ།',\n",
       "  'speakers': {0: 'Michael Anti'},\n",
       "  'occupations': {0: ['blogger']},\n",
       "  'about_speakers': {0: \"Michael Anti (Zhao Jing), a key figure in China's new journalism, explores the growing power of the Chinese internet.\"},\n",
       "  'views': '1660316',\n",
       "  'recorded_date': '2012-06-29',\n",
       "  'published_date': '2012-07-30T15:03:53+00:00',\n",
       "  'event': 'TEDGlobal 2012',\n",
       "  'native_lang': 'en',\n",
       "  'available_lang': ['ar',\n",
       "   'bg',\n",
       "   'bo',\n",
       "   'cs',\n",
       "   'da',\n",
       "   'de',\n",
       "   'el',\n",
       "   'en',\n",
       "   'es',\n",
       "   'fa',\n",
       "   'fr',\n",
       "   'fr-ca',\n",
       "   'he',\n",
       "   'hu',\n",
       "   'id',\n",
       "   'it',\n",
       "   'ja',\n",
       "   'ko',\n",
       "   'nl',\n",
       "   'pl',\n",
       "   'pt',\n",
       "   'pt-br',\n",
       "   'ro',\n",
       "   'ru',\n",
       "   'sl',\n",
       "   'sq',\n",
       "   'sr',\n",
       "   'vi',\n",
       "   'zh',\n",
       "   'zh-cn',\n",
       "   'zh-tw'],\n",
       "  'comments': '479',\n",
       "  'duration': '18M51S',\n",
       "  'duration_sec': '1131',\n",
       "  'topic_tags': ['Asia',\n",
       "   'china',\n",
       "   'global issues',\n",
       "   'journalism',\n",
       "   'social media',\n",
       "   'technology'],\n",
       "  'related_talks': {'id': {0: 1236, 1: 575, 2: 992, 3: 1059, 4: 2226, 5: 424},\n",
       "   'title': {0: \"The generation that's remaking China\",\n",
       "    1: 'How social media can make history',\n",
       "    2: 'Global power shifts',\n",
       "    3: 'Understanding the rise of China',\n",
       "    4: 'Are China and the US doomed to conflict?',\n",
       "    5: 'The hunt for General Tso'}},\n",
       "  'talk_url': 'https://www.ted.com/talks/michael_anti_behind_the_great_firewall_of_china',\n",
       "  'talk_description': 'མ་ཨི་ཁལ་ཨེན་ཊིཿ་ཁོང་གིས་ལོ་ངོ་༡༢་གྱི་རིང་ལ་རྒྱ་ནག་ནས་ཟིན་བྲིས་སྤེལ་ཡོད། ཁོང་གིས་བརྗོད་དོན་ལྟར་ན། རྒྱ་ནག་གི་དྲ་རྒྱ་སྟངས་འཛིན་གྱི་བདག་དབང་གཞུང་གི་ལག་ཏུ་ཡོད་ཀྱང་། མི་མང་ས་ཡ་མང་པོས་དྲ་ཞུགས་བྱས་ཏེ་རྒྱལ་ཁབ་ཀྱི་ལོ་རྒྱུས་ནང་དུ་བྱུང་མ་མྱོང་བའི་མི་མང་གི་གླེང་སྟེགས་ཤིག་བསྐྲུན་ཡོད་པ་དང་། དབང་ཚད་སྙོམས་སྒྲིག་གི་འགྱུར་བསམ་ཡུལ་ལས་འདས་བ་ཞིག་འགྲོ་གི་འདུག།',\n",
       "  'transcript': 'འདས་བའི་ཉིན་ཤས་ཀྱི་རིང་ལ་ངས་མི་མང་ཚོས་རྒྱ་ནག་གི་སྐོར་བཤད་ཀྱི་ཡོད་པ་གོ་བྱུང་། མ་ཟད། ངས་གྲོགས་པོ་ཚོར་རྒྱ་ནག་དང་རྒྱ་ནག་གི་དྲ་རྒྱའི་སྐོར་གླེང་མོལ་བྱས་པ་ཡིན། གནད་དོན་གཅིག་ནི་ང་ལ་མཚོན་ན་ཧ་ཅང་ཁག་པོ་འདུག། དེ་ནི་ངས་ཁོང་ཚོར་རྒྱ་ནག་ནི་རྙོག་འཛིང་ཅན་ཞིག་ཡིན་པ་ ཧ་གོ་འཇུག་དགོས་པ་དེ་རེད། དེར་བརྟེན། ངས་རྟག་པར་ཕྱོགས་གཅིག་ནས་འདི་འདྲ་ཡིན་པ་དང་། ཡང་ཕྱོགས་གཞན་ཞིག་ནས་དེ་འདྲ་ཡིན་པ་བརྗོད་ཀྱི་ཡོད། སྒྲུང་ངོས་གཅིག་ཅན་ཁོ་ན་ཞིག་བཤད་ནས་ཡོང་ཐབས་མེད། དཔེར་ན། རྒྱ་ནག་ནི་བྷི་རིས་ཁི་(BRIC)རྒྱལ་ཁབ་ཅིག་རེད། བྷི་རིས་ཁི་ཡིས་བྷི་ར་ཛིལ་(Brazil)དང་། ཨུ་རུ་སུ།(Russia) རྒྱ་གར།(India) རྒྱ་ནག(China)་བཅས་མཚོན་གྱི་ཡོད། རྒྱལ་ཁབ་འདི་དག་གི་ཡར་རྒྱས་འགྲོ་བཞིན་པའི་དཔལ་འབྱོར་གྱིས་འཛམ་གླིང་ དཔལ་འབྱོར་བསྐྱར་གསོ་ལ་ཕན་ཐོགས་ཀྱི་ཡོད། འོན་ཀྱང་། ཕྱོགས་གཞན་ཞིག་ནས རྒྱ་ནག་ནི་སིག་ཁི་(SICK)རྒྱལ་ཁབ་ཞིག་རེད། བརྡ་ཆད་འདི་ངོ་དེབ་བཟོ་ཚོང་ཁང་གི་ཡིག་ཆའི་ནང་དུ་བཏོན་འདུག ཁོང་གིས་སིག་ཁི་ཞེས་པ་འདིས་སིས་རི་ཡ་(Syria)དང་། ཨི་རན།(Iran) རྒྱ་ནག།(Chia) བྱང་ཀོ་རི་ཡ་(North korea)བཅས་མཚོན་གྱི་ཡོད། རྒྱལ་ཁབ་འདི་བཞིའི་ནང་དུ་ངོ་དེབ་བེད་སྤྱོད་ཀྱི་འཇུག་སྒོ་མེད། དེར་བརྟེན། གཞི་རྩའི་ཆ་ནས་རྒྱ་ནག་ནི་ཞེན་པ་ལོག་པའི་རྒྱལ་ཁབ་ཞིག་རེད། (དགོད་སྒྲ།) ལས་འཆར་གཞན་པ་ཞིག་བཙུགས་ཏེ། རྒྱ་ནག་དང་རྒྱ་ནག་གི་དྲ་རྒྱར་ལྟ་རྟོག་བྱེད་ཀྱི་ཡོད། དེ་རིང་ངས་ཁྱེད་ཚོར་ལོ་ངོ་དུ་མའི་རིང་རྒྱ་ནག་གི་ཆ་འཕྲིན་ ལྕགས་རིའི་ནང་གི་སྒེར་གྱི་མཐོང་སྣང་དག་བརྗོད་འདོད་བྱུང་། གལ་ཏེ་ཁྱེད་རང་སྲིད་སྟེགས་ཀྱི་རྩེད་མོ(Game of Thrones)་ལ་དགའ་མཁན་ཞིག་ཡིན་ཚེ། རྒྱལ་གཞིས་རྙིང་པ་ཞིག་ལ་རྩིག་གྱང་ནི་ག་ཚོད་གལ་ཆེན་ཡིན་མིན་ཤེས་ངེས་རེད། དེས་བྱང་གི་གནོད་འཚེ་དག་འགོག་གི་ཡོད། རྒྱ་ནག་གི་གནས་བབ་ཀྱང་དེ་མཚུངས་རེད། བྱང་རྒྱུད་དུ་རྒྱ་ནག་ལྕགས་རི་རིང་པོ་ཡོད། འདིས་ལོ་ངོ་༢༠༠༠ གི་རིང་ལ་རྒྱ་ནག་རྒྱལ་ཁབ་བཙན་འཛུལ་ བྱེད་པོ་དག་གི་སོ་ཁ་ནས་བསྐྱབས་ཡོད། ད་དུང་། རྒྱ་ནག་ལ་ཆ་འཕྲིན་འགོག་པའི་ལྕགས་རི་ཞིག་ཀྱང་ཡོད། དེ་ནི་འཛམ་གླིང་གི་ཆེས་ཆེ་བའི་ཆ་འཕྲིན་ལྕགས་རི་ཡིན། འདིས་རྒྱ་ནག་དམར་གཞུང་ཕྱི་ཕྱོགས་ལས་སྲུང་སྐྱོབ་དང་། ཡོངས་ཁྱབ་རིན་ཐང་བཀག་འགོག་བྱེད་རྒྱུ་ཙམ་མིན་པར། རྒྱ་ནག་རང་གི་མི་སེར་རྣམས་འཛམ་གླིང་རང་དབང་དྲ་བར་འཛུལ་བཅུག་མེད། ཐ་ན་ཁོང་ཚོ་དུམ་བགོ་བྱེད་པ་ལས་ཆིག་སྒྲིལ་བྱེད་འཇུག་གི་མེད། རྩ་བའི་ཆ་ནས་དྲ་རྒྱ་ལ་རིགས་གཉིས་ཡོད་པ་རེད། དང་པོ་དེ་ཡོངས་ཁྱབ་ཀྱི་དྲ་རྒྱ་དང་། གཞན་པ་ནི་རྒྱ་ནག་གི་དྲ་རྒྱ་རེད། འོན་ཀྱང་། ཁྱེད་ཀྱིས་རྒྱ་ནག་གི་དྲ་རྒྱ་ནི་ ནུས་མེད་བེམ་རོ་ཞིག་རེད་སྙམ་ན་ནོར་འཁྲུལ་རེད། ང་ཚོས་ཞི་མི་དང་ཙི་ཙི་ཡི་མཚུངས་བསྡུར་ཐབས་ལམ་སླ་བོ་ཞིག་གིས་ འདས་བའི་ལོ་ངོ་བཅོ་ལྔའི་རིང་གི་ རྒྱུན་ཆད་མེད་པའི་འཐབ་རྩོད་དེ། ཞི་མི་མཚོན་པའི་ཞིབ་བཤེར་དང་། ཙི་ཙི་མཚོན་པའི་དྲ་དམངས་དབར་གྱི་རྩོད་པ་འགྲེལ་གྱི་་ཡོད། འོན་ཀྱང་། མཚམས་རེར་འདི་ལྟ་བུའི་མཚུངས་བསྡུར་ཏེ་ཆེས་སྤྱིར་བཏང་བ་ཞིག་ཡིན་པས། དེ་རིང་ངས་འདིར་རིམ་པ་གཉིས་བ་ཞིག་གི་ཐོག་ནས་འགྲེལ་གྱི་ཡིན། རྒྱ་ནག་ཏུ་དྲ་དམངས་ས་ཡ་༥༠༠་ཡོད། འཛམ་གླིང་གི་དྲ་རྒྱ་སྤྱོད་མཁན་གྱི་གྲངས་འབོར་མང་ཤོས་རེད། རྒྱ་ནག་དྲ་རྒྱ་ནི་རྩ་བ་ནས་ཡོངས་སུ་ཞིབ་བཤེར་བྱེད་པ་ཞིག་ཡིན་ནའང་། རྒྱ་ནག་དྲ་རྒྱའི་སྤྱི་ཚོགས་དངོས་ཡོད་ཐོག་ཁ་ཡར་ལ་ཕྱོགས་ཀྱི་ཡོད། ཇི་ལྟར་ཞེ་ན། ལས་སླ་བོ་རེད། ཁྱེད་ཚོར་གྷོས་གྷིལ་(Google)ཡོད་སར། ང་ཚོར་པེ་ཏོས་(Baidu)ཡོད། ཁྱེད་ཚོར་ཌིས་ཌིར་(Twitter)ཡོད་སར། ང་ཚོར་ཝེ་པོ་(Weibo)ཡོད། ཁྱེད་ཚོར་ངོ་དེབ་(Facebook)ཡོད་སར། ང་ཚོར་རིན་རིན་(Renren)ཡོད། ཁྱེད་ཚོར་ཡོས་ཌོབ་(Youtube)ཡོད་སར། ང་ཚོར་ཡོས་ཁོས་(Youku)དང་ཐོས་ཏོས་(Tudou)ཡོད། རྒྱ་གཞུང་གིས་རྒྱལ་སྤྱིའི་དྲ་ལམ་ ཚད་རིམ་ ༢་༠ ཅན་ཆ་ཚང་བཀག་ཡོད་ཀྱང་། རེ་རེ་བྱས་ནས་འདྲ་བཟོ་བྱས་ཡོད། (དགོད་སྒྲ།) ངས་འདི་ལ་ཐབས་མཁས་བའི་ཞིབ་བཤེར་ཞེས་འབོད་ཀྱི་ཡོད། དེས་ཁྱེད་རང་གཅིག་པུར་ཞིབ་བཤེར་བྱེད་པ་ཁོ་ན་མ་རེད། རྒྱ་ནག་རྒྱལ་ཁབ་ཀྱི་དྲ་རྒྱ་སྟངས་འཛིན་སྲིད་ཇུས་འདི་སྟབས་བདེ་མོ་ཞིག་སྟེ། བཀག་འགོག་དང་འདྲ་བཟོ་བྱེད་རྒྱུ་ཙམ་རེད། ཕྱོགས་གཅིག་ནས་སྤྱི་ཚོགས་འབྲེལ་མཐུད་དྲ་བའི་དགོས་མཁོ་སྐོང་འདོད་ཡོད། མི་མང་ཚོ་དངོས་གནས་སྤྱི་ཚོགས་འབྲེལ་མཐུད་དྲ་བར་དགའ། འོན་ཀྱང་། ཕྱོགས་གཞནཞིག་ནས་ཁོང་ཚོས་འདོད་མོས་ལྟར་དྲ་རྒྱའི་ཨ་མ་དེ་ དུས་ནམ་ཡིན་ཡང་ཞིབ་བཤེར་བྱེད་ཆེད་པེ་ཅིང་དུ་ཉར་དགོས་པ་དེ་རེད། གུ་གལ་རྒྱ་ནག་ནས་ཕྱིར་འཐེན་བྱས་བའི་རྒྱུ་རྐྱེན་ཀྱང་དེ་ལ་ཐུག་ཡོད། ཁོང་ཚོས་རྒྱ་གཞུང་གིས་དྲ་རྒྱའི་ཨ་མ་དོ་དམ་ བྱེད་རྒྱུ་དེ་དང་ལེན་བྱེད་མ་ཐུབ་པ་རེད། ཨ་རབ་ཀྱི་དབང་ཆ་གཅིག་སྡུད་པ་ཚོས་རྒྱ་ནག་གི་དྲ་རྒྱ་ སྟངས་འཛིན་གྱི་ཐབས་ལམ་གཉིས་ཆ་རྟོགས་མི་འདུག། དཔེར་ན། མོ་བྷ་ར་ཁས་(Mubarak)དྲ་ལམ་བཀག་པ་རེད། ཁོང་གིས་དྲ་དམངས་ཚོས་རང་ཉིད་ལ་སྐྱོན་བརྗོད་བྱེད་རྒྱུ་འགོག་འདོད་པ་རེད། ཡིན་ཡང་། དྲ་དམངས་ཚོས་དྲ་རྒྱ་འགྲིམས་མ་ཐུབ་པས་་སྲང་ལམ་དུ་འཛོམས་པ་རེད། དེའི་མཇུག་འབྲས་མངོན་གསལ་རེད། ང་ཚོས་ཤེས་གསལ་ལྟར་མོ་བྷ་ར་ཁི་དངོས་ཡོད་ལག་ལེན་ཐོག་ནས་ ཤི་བ་རེད། ད་དུང་ཊ་ནེ་ཤི་ཡ་(Tunisia)ཡི་་སྲིད་འཛིན་བྷན་ཨ་ལས་(Ben Ali)ཀྱིས་ དྲ་རྒྱ་སྟངས་འཛིན་གྱི་ཐབས་ལམ་གཉིས་པ་དེ་གཞིར་བཟུང་བྱས་མེད། དེ་ནི་དྲ་རྒྱའི་ཨ་མ་རང་གི་ལག་ཏུ་ཉར་རྒྱུ་དེ་རེད། ཁོང་གིས་ཨ་རིར་རྟེན་གཞི་བྱས་བའི་ངོ་དེབ་ ཊུ་ནེ་ཤེ་ཡའི་(Tunisia)ནང་དུ་བེད་སྤྱོད་བྱེད་བཅུག་པ་རེད། དེར་བརྟེན། ཁོང་གིས་ལྐོག་ཟ་རུལ་སུངས་བྱས་པར་རྒོལ་བའི་ སྐྱོན་འཛུགས་གྱི་བརྙན་ཐུང་དག་བཀག་སྡོམ་བྱེད་ཐུབ་མེད། གནས་ཚུལ་གཅིག་པ་བྱུང་བ་རེད། ཁོང་ནི་ཨ་རབ་ དཔྱིད་ཀའི་ཡོ་ལངས་ཁྲོད་མགོ་རྟིང་སློག་པ་དང་པོ་རེད། འོན་ཀྱང་། རྒྱལ་སྤྱིའི་དྲ་རྒྱ་ཞིབ་བཤེར་གྱི་ཐབས་ལམ་དེ་གཉིས་ཀྱིས་ རྒྱ་ནག་གི་སྤྱི་ཚོགས་འབྲེལ་མཐུད་དྲ་རྒྱ་དེ་མི་མང་གི་གླེང་སྟེགས་ཤིག་དང་། བསམ་འཆར་བརྒྱུད་ལམ། དཔོན་རིགས་ཚོའི་འཇིགས་སྣང་བྱེད་ཡུལ་ཆགས་པ་དེ་འགོག་ཐུབ་མེད། གང་ལགས་ཞེ་ན། རྒྱ་ནག་ཏུ་དྲ་ཐོག་ཟིན་བྲིས་བ་ས་ཡ་༣༠༠་ཙམ་ཡོད། དེ་ནི་ཨ་རིའི་མི་འབོར་ཁ་གྲངས་དང་གཅིག་པ་རེད། ཟིན་བྲིས་བ་ས་ཡ་༣༠༠་དེ་ཞིབ་བཤེར་གྱི་ར་བ་ནས་ ཟིན་བྲིས་འདེབས་རྒྱུ་བཀག་ཀྱང་། རྒྱ་ནག་གི་དྲ་རྒྱས་ལོ་རྒྱུས་ནང་བྱུང་མ་མྱོང་བའི་ ནུས་སྟོབས་ཆེན་པོ་ཞིག་ བསྐྲུན་ཐུབ་ཀྱི་ཡོད། ༢༠༡༡ ལོའི་ཟླ་༧་པའི་ནང་ལྷོ་རྒྱུད་གྲོང་ཁྱེར་བིན་གྲོས་(Wenzhou)ནང་ གནས་ཚུལ་གསལ་ཁ་མེད་པའི་མེ་འཁོར་བརྡབ་སྐྱོན་གཉིས་བྱུང་བ་རེད། ཆག་སྒོ་དེ་བྱུང་མ་ཐག དབང་འཛིན་པ་ཚོས་དངོས་ཡོད་ཐོག་དོན་རྐྱེན་ཏེ་སྦས་འདོད་སྐྱེས་བ་རེད། གནད་དོན་དེས་རྒྱ་ནག་གི་དྲ་དམངས་ལ་ཁོང་ཁྲོ་བསླངས་ཡོད། ཆག་སྒོ་བྱུང་རྗེས་ཀྱི་ཉིན་ལྔའི་ནང་། དྲ་ཐོག་ཏུ་དོན་རྐྱེན་དེར་སྐྱོན་བརྗོད་བྱེད་མཁན་ས་ཡ་༡༠་བྱུང་བ་རེད། དེ་འདྲ་རྒྱ་ནག་ལོ་རྒྱུས་ནང་དུ་བྱུང་མྱོང་མེད། ད་ལོའི་ལོ་མཇུག་ཏུ། མེ་འཁོར་བློན་ཆེན་གོ་གནས་ནས་ ཕབ་སྟེ་ཁྲིམས་ཆད་བཙོན་འཇུག་ལོ་༡༠་བྱས་སོང་། ཉེ་ཆར་པེ་ཅིང་ཁོར་ཡུག་བློན་ཆེན་ལྷན་ཁང་དང་ པེ་ཅིང་དུ་ཡོད་པའི་ཨ་རིའི་གཞུང་ཚབ་གཉིས་ཀྱི་དབར་ལ་ དགོད་བྲོ་བའི་རྩོད་པ་ཞིག་བྱུང་བ་རེད། གང་ལེགས་ཞེ་ན། བློན་ཆེན་ལྷན་ཁང་གིས་ ཨ་རིས་གཞུང་ཚབ་ལ་རྒྱ་ནག་ནང་སྲིད་ལ་ཇུས་གཏོགས་ཀྱིས་ མཁའ་དབུགས་གནས་བབས་ཀྱི་ཡིག་ཆ་ ཕྱིར་བསྒྲགས་བྱས་པར་སྐྱོན་བརྗོད་བྱས། ཨ་རིའི་གཞུང་ཚབ་ཀྱིས་བཏོན་པའི་ཡིག་ཆ་དེ་འགྲིག་ཡོད། ཁོང་གིས་མཁའ་དབུགས་ཀྱི་ཚད་༡༤༨་ཡིན་པས་ཚོར་བ་སྐྱེན་པའི་མི་རྣམས་ ཕྱི་ལ་མ་སོང་ན་ལེགས་པའི་བསམ་ཚུལ་བཏོན། བློན་ཆེན་ལྷན་ཁང་གིས་མཁའ་དབུགས་གཙང་བཙོག་གི་ཚད་༥༠་ཡིན་པས། ཕྱི་ལ་སོང་ན་སྐྱོན་མེད་ཚུལ་བརྗོད། ཡིན་ན་འང་། རྒྱ་ནག་གི་ཟིན་བྲིས་བ་བརྒྱ་ཆ་༩༩ ཨ་རིའི་གཞུང་ཚབ་ཀྱི་ཕྱོགས་སུ་ལངས་ཡོད། སྐབས་དེར་ང་པེ་ཅིང་དུ་ཡོད། ངས་རྟག་པར་ཨ་རིའི་གཞུང་ཚབ་ཁང་གི་ཡིག་ཆར་བལྟས་ཏེ། སྒེའུ་ཁུང་ཕྱེ་ན་འགྲིག་མིན་གྱི་ཐག་་ཆོད་བྱེད་ཀྱི་ཡོད། ཞིབ་བཤེར་གྱི་རྒྱ་ལས་ཀྱང་རྒྱ་ནག་དྲ་རྒྱ་ཇི་ལྟར་ཡར་རྒྱས་འགྲོ་གི་ཡོད་པ་རེད་ཅེ་ན། རྒྱུ་མཚན་གྱི་ཆ་ཤས་གཅིག་ནི་རྒྱའི་སྐད་ཡིག་རེད། ཌིས་ཌིར་དང་ཌིས་ཌིར་འདྲ་བཟོ་བྱས་པ་གཉིས་ཀར་ ཡིག་འབྲུ་༡༤༠་ཙམ་འབྲི་བའི་ཚད་གཞི་ཡོད་པ་རེད། འོན་ཀྱང་། དབྱིན་ཡིག་ནང་དུ་ཚིག་༢༠་འམ་ཡང་ན་འབྲེལ་ཐག་ཐུང་ཐུང་ཞིག་རེད། ལྗར་མན་གྱི་སྐད་ཡིག་ནང་དུ་ཕལ་ཆེར་(Aha)ཞིག་ཡིན་རྒྱུ་རེད། (དགོད་སྒྲ།) འོན་ཀྱང་། རྒྱ་ཡིག་ནང་དུ་ཡིག་འབྲུ་༡༤༠་ནི་ ཡིག་འབེབ་ཞིག་གམ་སྒྲུང་ཞིག་རེད། དེའི་ནང་དུ་གསར་གནས་ཤིག་གི་རྒྱུ་ཆ་ཁག་ཀྱང་ཚང་ཡོད། དཔེར་ན། འདི་ནི་ཤེག་སི་ཧྥིར་གྱི་ཧམ་ལེ་ཐི་རེད། ནང་དོན་འདི་རྒྱ་ཡིག་གི་ནང་ཏུ་ཌིས་ཌིར་ཐོག་འགོད་ཐེངས་གཅིག་ནི་ དབྱིན་ཡིག་གི་འགོད་ཐེངས་གསུམ་དང་ཕྱེད་ཀ་ཙམ་རེད། རྒྱ་མི་ཚོས་དུས་རྟག་ཏུ་བསླུ་ཡི་མི་འདུག་གམ། དེར་བརྟེན། རྒྱ་མི་ཚོས་ཟིན་བྲིས་སྤེལ་བ་འདི་གསར་ལམ་ཞིག་ལས་ གསར་འགྱུར་གྱི་མགོ་བརྗོད་ལྟ་བུ་ཞིག་ངོས་འཛིན་གྱི་མེད། མ་ཟད། སེ་ན་(Sina)བཟོ་ཚོང་ཁང་ནི་ ཌིས་ཌིར་འདྲ་བཟོ་བྱེད་མཁན་རེད། དེར་མིང་ཞིག་བཏགས་པ་ནི་ཝེ་པོ་(Weibo)རེད། ཝེ་པོ་ཞེས་བ་ནི་ཟིན་ཕྲན་ཞེས་བའི་རྒྱ་འགྱུར་དེ་ཡིན། དེ་ལ་རང་གི་གསར་གཏོད་ཀྱི་ཆ་ཡོད། ཝེ་པོ་སྟེང་གི་མཆན་འདོགས་ས་དེ་ནི་ཌིས་ཌིར་ངོ་མ་དང་མི་འདྲ་བར་ ངོ་དེབ་དང་ཅུང་འདྲ་བོ་ཡོད། ཝེ་པོ་(Weibo)དང་ཟིན་ཕྲན་སོགས་ཀྱི་གསར་གཏོད་དང་། འདྲ་བཟོ་འདི་དག ༢༠༠༩་ལོར་རྒྱ་ནག་ཏུ་དར་ཁྱབ་ཕྱིན་སྐབས། གསར་ལམ་གླེང་སྟེགས་ཤིག་ཆགས་པ་རེད། ཀློག་པ་པོ་ས་ཡ་༣༠༠་ཅན་གྱི་གསར་ལམ་གླེང་སྟེགས་ཤིག་ཆགས་པ་རེད། གསར་འགྱུར་བརྒྱུད་ལམ་ཞིག་ཆགས་པ་རེད། ཝེ་པོ་ནང་དུ་མ་གླེང་བའི་གནད་དོན་ཞིག རྒྱ་ནག་མི་མང་གིས་མི་ཤེས་བའི་ཚད་དུ་སླེབས་ཡོད། ད་དུང་། རྒྱ་ནག་གི་སྤྱི་ཚོགས་འབྲེལ་མཐུད་དྲ་རྒྱས་ དངོས་གནས་མི་མང་གི་ལྟ་སྟངས་དང་འཚོ་བ་གཉིས་ལ་འགྱུར་བ་ཐེབས་བཅུག་ཡོད། དཔེར་ན། མངོན་འདོད་གླེང་སའི་བརྒྱུད་ལམ་མེད་པའི་མི་མང་ ཚོར་རང་གི་མངོན་འདོད་གཞན་གྱིས་གོ་ཐུབ་པའི་བརྒྱུད་ལམ་ཞིག་བསྐྲུན་ཡོད། རྒྱ་ནག་ལ་ཁྲིམས་ལུགས་དབང་ཆའི་ཁྱབ་ཁོངས་ཀྱི་ཕྱི་རོལ་ཏུ་ཞུ་གཏུག་ལམ་ལུགས་ཤིག་ཡོད། གང་ལེགས་ཞེ་ན། དབུས་གཞུང་གིས་ལུགས་སྲོལ་རྙིང་པ་ཞིག་རྒྱུན་སྐྱོང་འདོད་ཡོད། གོང་མ་ནི་སྐྱོན་མེད་དང་། ས་གནས་དཔོན་རིགས་ཚོ་ནི་ཇག་ཚོགས་ཤིག་ཡིན་པའི་ལྟ་སྟངས་རེད། དེར་བརྟེན། ཞུ་གཏུག་བྱེད་མཁན་ཏེ་གནོད་ཐེབས་ཞིང་པ་ཚོ་ མེ་འཁོར་ལ་བསྡད་དེ་པེ་ཅིང་དབུས་གཞུང་དུ་ཞུ་གཏུག་ལ་ཡོང་ཚེ། ཁོང་ཚོས་དཀའ་རྙོག་དེ་གོང་མས་སེལ་བའི་རེ་བ་བྱེད་ཀྱི་ཡོད། ཡིན་ཡང་། པེ་ཅིང་དུ་ཞུ་གཏུག་པ་ཇེ་མང་དུ་ཕྱིན་ན། གྱེན་ལངས་ཀྱི་ཉེན་ཁ་ཡང་ཡོད་པས། དབུས་གཞུང་གིས་ཁོང་ཚོ་ཕྱིར་ས་གནས་སུ་ལོག་བཏང་བ་དང་། ཐ་ན་མང་པོ་ཞིག་བཙོན་ཁང་དུ་བཅུགས་འདུག། འོན་ཀྱང་། ད་ལྟ་ང་ཚོར་ཝེ་པོ་ཡོད། ངས་དེ་ལ་ཝེ་པོ་ཞུ་གཏུག་ཅེས་ལབ་ཀྱི་ཡོད། མི་མང་གིས་ལག་འཁྱེར་ཁ་པར་ལ་བསྟེན་ནས་དྲ་ཞུགས་བྱེད། སྐབས་རེར་སྟབས་ལེགས་ན་རང་ཉིད་ཀྱི་དཀའ་ངལ་གྱི་སྒྲུང་དེར་ གསར་འགོད་པ་དང་། སློབ་དཔོན། མི་སྣ་གྲགས་ཅན་ཚོས་དོ་སྣང་སྤྲད་སྲིད། ཡོ་ཁྲིན་ནི་ཁོང་ཚོའི་གྲས་ཀྱི་གཅིག་རེད། ཁོ་མོ་རྒྱ་ནག་གི་ཆེས་སྐད་གྲགས་ཆེ་བའི་ཟིན་བྲིས་པ་ཞིག་རེད། ཁོ་མོའི་ཟིན་བྲིས་བལྟ་ཀློག་བྱེད་མཁན་མི་གྲངས་ས་ཡ་༢༡ ཙམ་ཡོད། དེ་ནི་ཕལ་ཆེར་རྒྱལ་ཡོངས་བརྙན་འཕྲིན་ཁང་ཞིག་དང་འདྲ། གལ་ཏེ། རང་གི་དཀའ་ངལ་གྱི་གནད་དོན་ཞིག་ལ་ཁོ་མོས་བདག་རྒྱག་སྲིད། དེར་བརྟེན། ཝེ་པོ་སྤྱི་ཚོགས་འབྲེལ་མཐུད་དྲ་བ་འདིས་ཞིབ་བཤེར་གྱི་རྒྱ་ལས་ཀྱང་ རྒྱ་ནག་མི་མང་ས་ཡ་༣༠༠་ཙམ་ལ་མཉམ་དུ་གླེང་མོལ་དང་ཁ་བརྡ་ བྱེད་པའི་གོ་སྐབས་དཀོན་མོ་ཞིག་བསྐྲུན་ཡོད། དེ་ནི་ཌེ་ཌི་(TED)ཆེན་པོ་ཞིག་དང་འདྲ་པོ་རེད། མ་ཟད། འདི་ནི་རྒྱ་ནག་མི་མང་གི་ཁོར་ཡུག་ཏུ་ ཐོག་དང་པོར་བྱུང་བ་རེད། རྒྱ་ནག་མི་མང་གིས་མི་རྣམས་ལ་གྲོས་མོལ་དང་ ཁ་བརྡ་གང་འདྲ་བྱེད་དགོས་མིན་སློབ་ཀྱི་ཡོད། ཡིན་ཡང་། ཞིབ་བཤེར་གྱི་ཞི་མི་གཉིད་ཁུག་མེད། རྒྱ་ནག་ཝེ་པོ་དྲ་ཐོག་ཏུ་ཚོར་བ་སྐྱེན་པའི་གནད་དོན་རིགས་བཀོལ་ཐབས་མེད། དཔེར་ན། རྒྱ་ནག་སྲིད་འཛིན་ཧོས་ཅིན་ཐོ་ཡི་མིང་དང་། ཁྲོང་ཆིན་གྲོང་ཁྱེར་གྱི་མིང་འགོད་མི་ཐུབ། ཉེ་ཆར་བར་དུ་ཁྱེད་ཀྱིས་མཐོ་རིམ་དཔོན་རིགས་ཚོས་རུས་མིང་འཚོལ་མི་ཐུབ། དེར་བརྟེན། རྒྱ་མི་ཚོ་དོན་གཅིག་མིང་གི་རྣམས་གྲངས་ཅན་གྱི་ཚིག་དང་། ཚབ་མཚོན་གྱི་ཚིག ད་དུང་བརྒྱུད་སྤྲོད་ཀྱི་ཐབས་ལམ་སྤྱོད་པར་མཁས། ཐ་ན་ཁོང་ཚོས་སོ་སོར་མིང་བཏགས་ཏེ་ འཛམ་གླིང་ཁ་ལོ་བསྒྱུར་བའི་འཐབ་རྩོད་ཅིག འདམ་རྩའི་རྟ་དང་ཆུ་འབུ་དབར་དུ་བསླངས་ཡོད། རྩ་འདམ་རྟ་ཞེས་བ་ནི་ ཨ་མར་འཁྲིག་པ་སྤྱོད་པ་ཞེས་བ་དང་དོན་འདྲ། ཁོང་ཚོས་སོ་སོར་མིང་དེས་འབོད་ཀྱི་ཡོད། (hexie)ཆུ་འབུ་ཞེས་བ་ནི། འཆམ་མཐུན་དང་ཞིབ་བཤེར་གྱི་མཚོན་དོན་ཡིན། འདི་ལྟ་བུའི་ཚིག་དག་ཧ་ཅང་ཡག་པོ་ཡོད། དེར་བརྟེན། ཆབ་སྲིད་དང་འབྲེལ་བའི་གནད་དོན་རེ་བྱུང་ཚེ་སྤྲོ་བ་འདྲེན་པའི་དུས་སྐབས་ཤིག་འབྱུང་གི་རེད། ཝེ་པོ་དྲ་ཐོག་ཏུ་བློ་ཡུལ་ལས་འདས་བའི་སྒྲུང་རྐྱང་རྐྱང་མཐོང་། ཡ་མ་ཟུང་གི་ཚིག་དང་བརྗོད་པ་དེ་ཚོ་རྒྱ་ཡིག་གི་འབུམ་རམས་པའི་ ཤེས་ཚད་ཡོད་མཁན་ཞིག་ཡིན་ནའང་འགྲེལ་དཀའ། འོན་ཀྱང་། ཁྱེད་ཀྱིས་གནས་ཚུལ་ཁྱབ་རྒྱ་ཆེ་རུ་གཏོང་མི་ཐུབ། གང་ལགས་ཞེ་ན། རྒྱ་ནག་གི་ཝེ་པོ་གསར་འཛུགས་བྱེད་སྐབས་ནི་ གཞུང་ཕྱོགས་ནས་ཌིས་ཌིར་གཏན་འགོག་བྱས་བའི་ཟླ་གཅིག་ཙམ་གྱི་རྗེས་རེད། དེས་ཝེ་པོ་བཟོ་ཚོང་ཁང་གིས་ཝེ་པོ་ནི་ཐོག་དང་པོ་ནས་ རྒྱ་གཞུང་ལ་ཉེན་ཁ་འབྱུང་གཞིའི་གླེང་སྟེགས་ ཤིག་མི་ཆགས་པའི་གོ་བསྐོན་བློ་འགུགས་ བྱས་ཡོད་པ་མཚོན་ཐུབ། དཔེར་ན། མཉམ་འཛོམས་དང་ཐུག་འཕྲད། སྤྲོ་འཆམ་ལྟ་བུའི་ཚིག་དག་འཁོད་ཚེ། རང་བཞིན་གྱིས་ཞིབ་འཇུག་བྱེད་ཀྱི་ཡོད་ལ། ཆབ་སྲིད་ཀྱི་གནད་དོན་ཡོད་མིན་ཞིབ་འཇུག་བྱེད་པར་གཏོང་གི་ཡོད། ཁྱེད་ཀྱིས་ཐུག་འཕྲད་དེ་འདྲ་བྱེད་དགོས་བའི་དབང་དུ་བཏང་ན། ཁྱེད་རང་ས་གནས་སུ་མ་འབྱོར་སྔོན་དུ་ཉེན་རྟོག་པ་སླེབས་ཏེ་སྒུག་བསྡད་ཡོད། ག་རེ་བྱས་ནས། རྒྱུ་མཚན་ནི་ཁོང་ཚོར་ཡིག་ཆ་ཡོད་པས་རྐྱེན་གྱིས་རེད། ཁོང་ཚོའི་ལག་ཏུ་ཆ་ཚང་ཡོད། དེར་བརྟེན། ཁོང་ཚོས་༡༩༨༤་ལོའི་ངོ་ལོག་བ་དག་གི་ཡིག་ཆ་གསང་ཞིབ་བྱེད་པའི་རྣམ་པ་དེ་བཀོལ་ཐུབ། དེར་བརྟེན་དྲག་གནོན་བྱས་པ་ཧ་ཅང་ཚབས་ཆེན་ཡིན། འོན་ཀྱང་། ངས་ཁྱེད་ཚོར་ཞི་མི་དང་ཙི་ཙིའི་བརྒྱུད་རིམ་གྱི་ གནད་དོན་དགོད་བྲོ་བ་ཞིག་ཤེས་འཇུག་འདོད། ཞི་མི་ནི་ཞིབ་བཤེར་མཁན་རེད། རྒྱ་གཞུང་ལ་ཞི་མི་གཅིག་ལས་མེད་པ་མིན། ད་དུང་དབུས་དང་ས་གནས་ཀྱི་ཞི་མི་ཡོད། (དགོད་སྒྲ།) དྲ་རྒྱའི་དོ་དམ་གྱི་ཨ་མ་དབུས་ཀྱི་ཞི་མིའི་ལག་ཏུ་ཡོད་པས་ དྲ་དམངས་ཚོས་ས་གནས་གཞུང་ལ་སྐྱོན་བརྗོད་བྱེད་པའི་སྐབས་སུ། ས་གནས་གཞུང་ལ་པེ་ཅིང་དུ་ཡོད་པའི་སྐྱོན་བརྗོད་ཡིག་ཆ་རག་ཐབས་མེད། དབུས་གཞུང་ལ་ལྐོག་རྔན་མ་སྤྲད་པར་ ས་གནས་གཞུང་གིས་དགོངས་དག་ཞུ་བ་ལས་ཅི་ཡང་བྱེད་མི་ཐུབ། དེར་བརྟེན། འདས་བའི་ལོ་ངོ་གསུམ་གྱི་རིང་ལ། དྲ་རྒྱར་སྤེལ་བའི་སྤྱི་ཚོགས་ལས་འགུལ་གྱིས་ ཁ་ཡོད་ལག་ཡོད་ཐོག་ས་གནས་སྲིད་གཞུང་ལ་འགྱུར་བ་བཏང་སོང་། ཁོང་ཚོས་ལག་ཏུ་ཡིག་ཆ་རག་ཐབས་མེད་པས་ ཅུང་ཕྱི་གསལ་ནང་གསལ་ཆགས་བྱུང་། དྲ་རྒྱའི་ཨ་མ་པེ་ཅིང་དུ་ཡོད་པ་རེད། མེ་འཁོར་བརྡབ་སྐྱོན་གྱི་གནད་དོན་ཐད་ནས། ཅིའི་ཕྱིར་ཉིན་ལྔའི་ནང་སྐྱོན་བརྗོད་གྱི་གཏམ་ས་ཡ་༡༠་ཙམ་སྤེལ་བ་དེ་ཁོ་ན་མིན་པར་ ཅིའི་ཕྱིར་རྒྱ་ནག་དབུས་གཞུང་གིས་ དྲ་ཐོག་ཏུ་ཉིན་ལྔའི་རིང་ལ་སྨྲ་བརྗོད་རང་དབང་སྤྲད་པ་དེ་རེད། དེ་འདྲ་སྔོན་ཆད་བྱུང་མྱོང་ཡོད་པ་མ་རེད། གནད་དོན་ཆུང་ཆུང་རེད། གང་ལེགས་ཞེ་ན། ཐ་ན་དཔོན་རིགས་མཐོ་ཁག་དེ་ཚོ་ཡང་ ས་གནས་ཀྱི་དཔོན་རིགས་ཚོའི་བྱ་སྤྱོད་ལ་ཞེན་པ་ལོག་ཡོད། དེར་བརྟེན། ཁོང་ཚོར་ཁ་གཡར་ས་ཞིག་དགོས་པ་རེད། མི་མང་གི་བསམ་ཚུལ་ནི་ཁ་གཡར་ས་སྟབས་བདེ་ཤོས་ཏེ་རེད། ད་དུང་། ཉེ་ཆར་བྱུང་བའི་པོ་ཤེས་ལེ་དོན་རྐྱེན་དེ་གསར་འགྱུར་ཆེན་པོ་ཆགས་པ་རེད། ཁོང་ནི་རྒྱལ་སྲས་རེད། འོན་ཀྱང་། འདོ་ལོའི་ཕྱི་ཟླ་གཉིས་པ་དང་བཞི་བའི་བར་ ཝེ་པོ་ནི་དཀྲོག་གཏམ་བཀྲམ་སའི་ཁྲོམ་ས་ཆེན་པོ་ཞིག་ཆགས་པ་རེད། ཁྱེད་ཀྱིས་རྒྱས་སྲས་དེའི་སྐོར་ལ་བསྟན་བཤིག་སློང་བའི་སྐད་ཆ་ག་རེ་བཤད་ཀྱང་ཆོག སྐབས་དེར་ཁྱེད་རང་ཨ་རིར་ཡོད་པ་དང་གཅིག་མཚུངས་ཡིན། འོན་ཀྱང་། ཁྱེད་ཀྱིས་པེ་ཅིང་གི་དམག་མིའི་གྱེན་ལངས་སྐོར་གྱི་དཀྲོག་གཏམ་སྤེལ་ན། ཁྱེད་རང་འཛིན་བཟུང་བྱེད་ཁོ་ཐག་རེད། འདི་ལྟ་བུའི་རང་དབང་ནི་དམིགས་འབེན་བྱས་པ་ཞིག་རེད། རྒྱ་ནག་ཏུ་ཞིབ་བཤེར་ནི་རྒྱུན་ལྡན་གྱི་བྱ་སྤྱོད་ཞིག་རེད། ཁྱེད་ཀྱིས་རྒྱ་ནག་ཏུ་རང་དབང་འདུག་འདོད་པ་དེ་རྒྱུན་ལྡན་མ་རེད། དེའི་རྒྱབ་ཏུ་གནས་ཚུལ་གཞན་ཞིག་འབྱུང་གི་རེད། གང་ལགས་ཞེ་ན། ཁོང་ནི་གཡོན་ཐལ་ཆེ་བའི་དཔོན་རིགས་ཤིག་རེད། དབུས་གཞུང་གིས་ཁོང་ནི་དེ་སྔོན་ཧ་ཅང་མི་ཡག་པོ་ཞིག་དང་། ད་ལྟ་མི་ངན་གཏེ་བོ་ཞིག་ཡིན་པའི་རྒྱུ་མཚན་ མི་མང་ལ་ཤེས་འཇུག་འདོད་པ་རེད། དེར་བརྟེན། དྲ་དམངས་ས་ཡ་༣༠༠་ཅན་གྱི་ཝེ་པོ་ནི་ ཆབ་སྲིད་འཐབ་རྩོད་ཀྱི་ལག་ཆ་སྟབས་བདེ་ཞིག་ཆགས་པ་རེད། ལག་རྩལ་འདི་གསར་བ་ཡིན་ཀྱང་། ལམ་ལུགས་རྙིང་བ་རེད། ལམ་ལུགས་འདི་མོ་ཙེ་ཏུང་གིས་སྐད་གྲགས་ཆེན་པོ་བཟོས་བ་རེད། གང་ལེགས་ཞེ་ན། ཁོང་གིས་མི་མང་ས་ཡ་མང་པོར་སྐུལ་སློང་བྱས་ཏེ་ རིག་གནས་གསར་བརྗེ་ཆེན་པོའི་སྐབས་ས་གནས་གཞུང་རྩ་མེད་གཏོང་བཅུག་པ་རེད། དེ་སྟབས་བདེ་རེད། གང་ལགས་ཞེ་ན། དབུས་གཞུང་གིས་ མི་མང་གི་བསམ་འཆར་གྱི་སྣེ་ཁྲིད་དགོས་ཀྱི་མེད། ཁོང་ཚོས་མི་མང་ལ་དམིགས་འབེན་གྱི་ལམ་ཞིག་བསྟན་པ་ལས་ཞིབ་བཤེར་བྱེད་ཀྱི་མེད། ཞིབ་བཤེར་མི་བྱེད་པ་ནི་རྒྱ་ནག་ནང་དུ་ཆབ་སྲིད་ཀྱི་ལག་ཆ་ཞིག་ཆགས་པ་རེད། འདི་ནི་ཞི་མི་དང་ཙི་ཙིའི་རྩེད་མོ་ཡི་གནས་ཚུལ་གསར་ཤོས་ཏེ་ཡིན། སྤྱི་ཚོགས་འབྲེལ་མཐུད་དྲ་བས་རྒྱ་རིགས་ཀྱི་བསམ་བློ་གཏོང་སྟངས་ལ་འགྱུར་བ་བཏང་བ་རེད། སྨྲ་བརྗོད་རང་དབང་དང་། འགྲོ་བ་མིའི་ཐོབ་ཐང་ནི་ཁོང་ཚོའི་ལྷན་སྐྱེས་ཀྱི་ཐོབ་ཐང་ཡིན་ པ་ལས་ཨ་རི་ནས་ནང་འདྲེན་བྱས་བའི་ཆེ་མཐོང་ཞིག་མིན་པའི་ བསམ་བློ་གཏོང་མཁན་གྱི་རྒྱ་མི་ཇེ་མང་དུ་འགྲོ་བཞིན་ཡོད། ད་དུང་། འདིས་རྒྱ་ནག་གི་མི་སེར་ཚོར་སྦྱོང་བརྡར་དང་། མང་གཙོ་ཅན་དུ་འགྱུར་བའི་གྲ་སྒྲིག་ཐད་ནས་ མི་མང་གི་ཁོར་ཡུག་ཅིག་བསྐྲུན་ཡོད་ཀྱང་། དེས་རྒྱ་ནག་གི་ཆབ་སྲིད་ལམ་ལུགས་ལ་བསྒྱུར་བཅོས་བཏང་མེད་པར། རྒྱ་ནག་དབུས་གཞུང་གིས་གཅིག་སྡུད་བྱས་པའི་དྲ་རྒྱ་དོ་དམ་དེ་སྤྱད་ནས་ དབུས་གཞུང་གི་དབང་ཆ་སྲ་བརྟན་གཏོང་ཞིང་། ས་གནས་གཞུང་དང་ཤོག་ཁག་མ་འདྲ་བ་ཚོར་ཁ་གཏད་གཅོག་བྱེད་ཆགས་ཡོད། དེས་ན། ང་ཚོའི་མ་འོངས་ཅི་འདྲ་ཞིག་ཡིན་རྒྱུ་རེད། ཅི་བཤད་ཀྱང་། ང་ཚོ་ནི་ཙི་ཙི་རེད། ང་ཚོའི་མ་འོངས་གང་འདྲ་ཞིག་ཡིན་ཀྱང་ཞི་མིར་འཐབ་རྩོད་བྱེད་དགོས། རྒྱ་ནག་གཅིག་པུ་མིན་པར་ཨ་རིའི་ནང་དུའང་ ཞི་མི་ངན་པ་ཆུང་ཆུང་དང་སྙིང་རྗེ་བོ་དེ་འདྲ་འདུག། (དགོད་སྒྲ།) སོ་པ།(SOPA) པི་པ།(PIPA) ཨེ་ཁི་ཊ།(ACTA) ཊི་པས་པས་(TPP)དང་། ཨེ་ཊི་ཡོས།(ITU) ད་དུང་། ངོ་དེབ་དང་གུ་གལ་གཉིས་ཀྱིས་ཙི་ཙི་ཡི་གྲོགས་པོ་ཡིན་མདོག་སྟོན་གྱི་ཡོད་ཀྱང་། མཚམས་མཚམས་ཞི་མི་དང་མཉམ་དུ་མཐུན་འགྲིག་ཡོང་ཐབས་བྱེད་ཀྱི་འདུག། དེར་བརྟེན། ངའི་མཇུག་སྡོམ་ནི་སྟབས་བདེ་ཞིག་ཡིན། ང་ཚོ་རྒྱ་མི་ཚོས་་རང་དབང་ཆེད་འཐབ་རྩོད་བྱེད། ཁྱེད་ཚོས་ཞི་མི་ངན་པ་ཚོར་ལྟ་རྟོག་བྱོས། ཁོང་ཚོ་རྒྱ་ནག་གི་ཞི་མི་ཚོ་དང་མཉམ་སྦྲེལ་བྱེད་མ་འཇུག འདི་ལྟར། ང་ཚོས་མ་འོངས་པར་ ག་དུས་ཡིན་ཡང་། གང་དུ་ཡིན་ཡང་། ཞེད་སྣང་མེད་པར་ དྲ་རྒྱ་ལོངས་སྤྱོད་ཐུབ་པའི་ཙི་ཙིའི་རྨི་ལམ་དེ་མངོན་འགྱུར་བྱེད་འཇུག་གི་ཡིན། (ཐལ་མོ་རྡེབ་སྒྲ།) ཐུགས་རྗེ་ཆེ། (ཐལ་མོ་རྡེབ་སྒྲ།)'}}"
      ]
     },
     "execution_count": 58,
     "metadata": {},
     "output_type": "execute_result"
    }
   ],
   "source": [
    "unmatched_scraper.get_data()"
   ]
  },
  {
   "cell_type": "code",
   "execution_count": null,
   "metadata": {
    "Collapsed": "false"
   },
   "outputs": [],
   "source": []
  },
  {
   "cell_type": "code",
   "execution_count": 46,
   "metadata": {
    "Collapsed": "false"
   },
   "outputs": [
    {
     "data": {
      "text/plain": [
       "'ट्रांसफॉर्मेटिव पावर ऑफ वीडियो गेम्स'"
      ]
     },
     "execution_count": 46,
     "metadata": {},
     "output_type": "execute_result"
    }
   ],
   "source": [
    "# all features\n",
    "unmatched_scraper.get_talk_id(soup)\n",
    "unmatched_scraper.get_title(soup)\n",
    "unmatched_scraper.get_speakers(soup)\n",
    "unmatched_scraper.get_occupations(soup)\n",
    "unmatched_scraper.get_about_speakers(soup)\n",
    "unmatched_scraper.get_views(soup)\n",
    "unmatched_scraper.get_recorded_date(soup)\n",
    "unmatched_scraper.get_published_date(soup)\n",
    "unmatched_scraper.get_event(soup)\n",
    "unmatched_scraper.get_native_lang(soup)\n",
    "unmatched_scraper.get_available_lang(soup)\n",
    "unmatched_scraper.get_comments_count(soup)\n",
    "unmatched_scraper.get_duration(soup)\n",
    "unmatched_scraper.get_duration_sec(soup)\n",
    "unmatched_scraper.get_topic_tags(soup)\n",
    "unmatched_scraper.get_related_talks(soup)\n",
    "unmatched_scraper.get_talk_url(soup)\n",
    "unmatched_scraper.get_talk_description(soup)\n",
    "unmatched_scraper.get_transcript(soup)\n",
    "\n",
    "unmatched_scraper.get_title(soup)"
   ]
  },
  {
   "cell_type": "code",
   "execution_count": 24,
   "metadata": {
    "Collapsed": "false"
   },
   "outputs": [],
   "source": [
    "def make_soup(url):\n",
    "    \"\"\"Returns soup object from a URL.\"\"\"\n",
    "    # generate random user-agent\n",
    "    user_agent = {'User-agent': UserAgent().random}\n",
    "    # request page and make soup\n",
    "    page = requests.get(url, headers=user_agent)\n",
    "    soup = BeautifulSoup(page.content, 'lxml')\n",
    "    return soup"
   ]
  },
  {
   "cell_type": "code",
   "execution_count": null,
   "metadata": {
    "Collapsed": "false"
   },
   "outputs": [],
   "source": []
  },
  {
   "cell_type": "code",
   "execution_count": null,
   "metadata": {
    "Collapsed": "false"
   },
   "outputs": [],
   "source": []
  },
  {
   "cell_type": "code",
   "execution_count": null,
   "metadata": {
    "Collapsed": "false"
   },
   "outputs": [],
   "source": [
    "urls = [\n",
    "    'https://www.ted.com/talks/sarah_kaminsky_my_father_the_forger/',\n",
    "    'https://www.ted.com/talks/jorge_drexler_poetry_music_and_identity/transcript',\n",
    "    'https://www.ted.com/talks/sir_ken_robinson_do_schools_kill_creativity/',\n",
    "    'https://www.ted.com/talks/paul_mceuen_and_marc_miskin_tiny_robots_with_giant_potential/transcript',\n",
    "    'https://www.ted.com/talks/antara_raychaudhuri_and_iseult_gillespie_the_legend_of_annapurna_hindu_goddess_of_nourishment/',\n",
    "    'https://www.ted.com/talks/diana_reiss_peter_gabriel_neil_gershenfeld_and_vint_cerf_the_interspecies_internet_an_idea_in_progress/',\n",
    "]"
   ]
  },
  {
   "cell_type": "code",
   "execution_count": null,
   "metadata": {
    "Collapsed": "false"
   },
   "outputs": [],
   "source": [
    "url = ['https://www.ted.com/talks/diana_reiss_peter_gabriel_neil_gershenfeld_and_vint_cerf_the_interspecies_internet_an_idea_in_progress/']\n"
   ]
  },
  {
   "cell_type": "code",
   "execution_count": null,
   "metadata": {
    "Collapsed": "false"
   },
   "outputs": [],
   "source": [
    "get_speakers_2(soup)"
   ]
  },
  {
   "cell_type": "code",
   "execution_count": null,
   "metadata": {
    "Collapsed": "false"
   },
   "outputs": [],
   "source": [
    "test = TEDscraper(urls=url)\n",
    "test.get_data()"
   ]
  },
  {
   "cell_type": "code",
   "execution_count": null,
   "metadata": {
    "Collapsed": "false"
   },
   "outputs": [],
   "source": []
  },
  {
   "cell_type": "markdown",
   "metadata": {
    "Collapsed": "false"
   },
   "source": [
    "## Create DataFrame"
   ]
  },
  {
   "cell_type": "code",
   "execution_count": null,
   "metadata": {
    "Collapsed": "false",
    "ExecuteTime": {
     "end_time": "2020-02-24T01:14:56.451074Z",
     "start_time": "2020-02-24T01:14:56.245272Z"
    }
   },
   "outputs": [],
   "source": [
    "# Create DataFrame\n",
    "df = pd.DataFrame.from_dict(ted_dict, orient='index')\n",
    "\n",
    "# Pickle DataFrame\n",
    "df.to_pickle('data/first_df.pkl')\n",
    "\n",
    "print(f'Shape: {df.shape}')"
   ]
  }
 ],
 "metadata": {
  "kernelspec": {
   "display_name": "dev",
   "language": "python",
   "name": "dev"
  },
  "language_info": {
   "codemirror_mode": {
    "name": "ipython",
    "version": 3
   },
   "file_extension": ".py",
   "mimetype": "text/x-python",
   "name": "python",
   "nbconvert_exporter": "python",
   "pygments_lexer": "ipython3",
   "version": "3.7.7"
  },
  "toc": {
   "base_numbering": 1,
   "nav_menu": {},
   "number_sections": true,
   "sideBar": true,
   "skip_h1_title": false,
   "title_cell": "Table of Contents",
   "title_sidebar": "Contents",
   "toc_cell": false,
   "toc_position": {},
   "toc_section_display": true,
   "toc_window_display": false
  },
  "toc-showcode": false,
  "toc-showtags": false
 },
 "nbformat": 4,
 "nbformat_minor": 4
}
