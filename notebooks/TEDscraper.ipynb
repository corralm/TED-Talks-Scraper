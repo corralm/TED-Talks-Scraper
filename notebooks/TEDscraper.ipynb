{
 "cells": [
  {
   "cell_type": "markdown",
   "metadata": {
    "Collapsed": "false"
   },
   "source": [
    "# TEDscraper Notebook"
   ]
  },
  {
   "cell_type": "code",
   "execution_count": 1,
   "metadata": {
    "Collapsed": "false",
    "ExecuteTime": {
     "end_time": "2020-02-24T06:56:51.108234Z",
     "start_time": "2020-02-24T06:56:47.569217Z"
    },
    "scrolled": true
   },
   "outputs": [],
   "source": [
    "import pandas as pd\n",
    "import re\n",
    "\n",
    "import requests\n",
    "from bs4 import BeautifulSoup\n",
    "from fake_useragent import UserAgent\n",
    "import time\n",
    "import random\n",
    "\n",
    "import pickle"
   ]
  },
  {
   "cell_type": "markdown",
   "metadata": {
    "Collapsed": "false",
    "heading_collapsed": true
   },
   "source": [
    "## Soup Maker"
   ]
  },
  {
   "cell_type": "code",
   "execution_count": 2,
   "metadata": {
    "Collapsed": "false",
    "ExecuteTime": {
     "end_time": "2020-04-24T07:19:30.434915Z",
     "start_time": "2020-04-24T07:19:30.420388Z"
    },
    "hidden": true
   },
   "outputs": [],
   "source": [
    "class SoupMaker:\n",
    "    \"\"\"Make soup objects and put your machine to sleep.\"\"\"\n",
    "    \n",
    "\n",
    "    def sleep_short(self):\n",
    "        \"\"\"Suspends execution time between 0 - .2 seconds.\"\"\"\n",
    "        return time.sleep(random.uniform(0, .2))\n",
    "\n",
    "    def sleep_long(self):\n",
    "        \"\"\"Suspends execution time between .5 - 2 seconds.\"\"\"\n",
    "        return time.sleep(random.uniform(.5, 2))\n",
    "\n",
    "    def make_soup(self, url):\n",
    "        \"\"\"Returns soup object from a URL.\"\"\"\n",
    "        # generate random user-agent\n",
    "        user_agent = {'User-agent': UserAgent().random}\n",
    "        # request page and make soup\n",
    "        page = requests.get(url, headers=user_agent)\n",
    "        soup = BeautifulSoup(page.content, 'lxml')\n",
    "        return soup\n"
   ]
  },
  {
   "cell_type": "markdown",
   "metadata": {
    "Collapsed": "false"
   },
   "source": [
    "## CreateCSV"
   ]
  },
  {
   "cell_type": "code",
   "execution_count": 3,
   "metadata": {
    "Collapsed": "false"
   },
   "outputs": [],
   "source": [
    "class CreateCSV(SoupMaker):\n",
    "    \"\"\"Create CSVs of TED topics and languages.\"\"\"\n",
    "\n",
    "\n",
    "    def create_topics_csv(self):\n",
    "        \"\"\"Creates CSV of all topics available from TED.\"\"\"\n",
    "        soup = self.make_soup('https://www.ted.com/topics')\n",
    "        topic_list = []\n",
    "        topic_tag = soup.find_all(class_='d:b', style='line-height:3;')\n",
    "        for tag in topic_tag:\n",
    "            topic = re.sub(r'\\s+', '', tag.text)\n",
    "            topic_list.append(topic)\n",
    "        topics_series = pd.Series(topic_list, name='Topic')\n",
    "        topics_series.to_csv('../data/topics.csv', index=False)\n",
    "\n",
    "    def create_languages_csv(self):\n",
    "        \"\"\"Creates CSV of all language codes supported by TED.\"\"\"\n",
    "        lang_url = 'https://www.ted.com/participate/translate/our-languages'\n",
    "        soup = self.make_soup(lang_url)\n",
    "        lang_list = []\n",
    "        lang_tags = soup.find_all('div', class_='h9')\n",
    "        for tag in lang_tags:\n",
    "            if tag.a == None:\n",
    "                continue\n",
    "            else:\n",
    "                lang_code = re.search(r'(?<=\\=)[\\w-]+', tag.a['href']).group(0)\n",
    "                lang_name = tag.text\n",
    "                lang_list.append([lang_code] + [lang_name])\n",
    "        lang_df = pd.DataFrame(data=lang_list, columns=['lang_code', 'language'])\n",
    "        lang_df.to_csv('../data/languages.csv', index=False)\n"
   ]
  },
  {
   "cell_type": "markdown",
   "metadata": {
    "Collapsed": "false",
    "heading_collapsed": true
   },
   "source": [
    "## Talk Features"
   ]
  },
  {
   "cell_type": "code",
   "execution_count": 4,
   "metadata": {
    "Collapsed": "false",
    "ExecuteTime": {
     "end_time": "2020-04-24T07:19:35.650462Z",
     "start_time": "2020-04-24T07:19:35.604835Z"
    },
    "hidden": true
   },
   "outputs": [],
   "source": [
    "class TalkFeatures(SoupMaker):\n",
    "    \"\"\"Class to get TED talk features.\"\"\"\n",
    "\n",
    "\n",
    "    def get_talk_id(self, soup):\n",
    "        \"\"\"Returns the talk_id provided by TED.\"\"\"\n",
    "        talk_id = re.search(r\"(?<=\\\"current_talk\\\":)\\\"(\\d+)\\\"\", soup.text).group(1)\n",
    "        return talk_id\n",
    "\n",
    "    def get_title(self, soup):\n",
    "        \"\"\"Returns the title of the talk.\"\"\"\n",
    "        title_tag = soup.find(attrs={'name': 'title'}).attrs['content']\n",
    "        title = title_tag.split(':')[1].strip()\n",
    "        return title\n",
    "\n",
    "    def get_speakers(self, soup):\n",
    "        \"\"\"Returns dict of all speakers per talk.\"\"\"\n",
    "        speaker_tag = re.findall(r\"(?<=\\\"speakers\\\":).*?\\\"}]\", soup.text)[0]\n",
    "        # convert to DataFrame\n",
    "        speakers_df = pd.read_json(speaker_tag)\n",
    "        full_name_raw = (speakers_df.loc[:, 'firstname'] + ' '\n",
    "                     + speakers_df.loc[:, 'middleinitial'] + ' '\n",
    "                     + speakers_df.loc[:, 'lastname'])\n",
    "        full_name_clean = full_name_raw.str.replace('\\s+', ' ')\n",
    "        # transform series to a dict\n",
    "        speakers = full_name_clean.to_dict()\n",
    "        return speakers\n",
    "\n",
    "    def get_occupations(self, soup):\n",
    "        \"\"\"Returns list of the occupation(s) of the speaker(s) per talk.\"\"\"\n",
    "        occupations_tag = re.findall(r\"(?<=\\\"speakers\\\":).*?\\\"}]\", soup.text)[0]\n",
    "        # convert json to DataFrame\n",
    "        occupations_series = pd.read_json(occupations_tag)['description']\n",
    "        if occupations_series.all():\n",
    "            # clean and create dict\n",
    "            occupations = occupations_series.str.lower().str.split(', ')\n",
    "            occupations = occupations.to_dict()\n",
    "        else:\n",
    "            occupations = None\n",
    "        return occupations\n",
    "\n",
    "    def get_about_speakers(self, soup):\n",
    "        \"\"\"Returns dict with each 'About the Speaker' blurb per talk.\"\"\"\n",
    "        speaker_tag = re.findall(r\"(?<=\\\"speakers\\\":).*?\\\"}]\", soup.text)[0]\n",
    "        # convert to DataFrame\n",
    "        about_series = pd.read_json(speaker_tag)['whotheyare']\n",
    "        if about_series.all():\n",
    "            # transform series to a dict\n",
    "            about_speakers = about_series.to_dict()\n",
    "        else:\n",
    "            about_speakers = None\n",
    "        return about_speakers\n",
    "\n",
    "    def get_views(self, soup):\n",
    "        \"\"\"Returns viewed count per talk.\"\"\"\n",
    "        view_count = re.search(r\"(?<=\\\"viewed_count\\\":)\\d+\", soup.text).group(0)\n",
    "        return view_count\n",
    "\n",
    "    def get_recorded_date(self, soup):\n",
    "        \"\"\"Returns date a talk was recorded.\"\"\"\n",
    "        recorded_at = re.search(r\"(?<=\\\"recorded_at\\\":)\\\"(.*?)T\", soup.text).group(1)\n",
    "        return recorded_at\n",
    "\n",
    "    def get_published_date(self, soup):\n",
    "        \"\"\"Returns date a talk was published in TED.com.\"\"\"\n",
    "        published_at = soup.find(attrs={'itemprop': 'uploadDate'}).attrs['content']\n",
    "        return published_at\n",
    "\n",
    "    def get_event(self, soup):\n",
    "        \"\"\"Returns name of the event in which the talk was given.\"\"\"\n",
    "        event = re.search(r\"(?<=\\\"event\\\":)\\\"(.*?)\\\"\", soup.text).group(1)\n",
    "        return event\n",
    "    \n",
    "    def get_native_lang(self, soup):\n",
    "        \"\"\"Returns native language code for each talk as a string.\"\"\"\n",
    "        native_lang = re.search(r'(?<=nativeLanguage\\\":\\\")[\\w-]+', soup.text).group(0)\n",
    "        return native_lang\n",
    "    \n",
    "    def get_available_lang(self, soup):\n",
    "        \"\"\"Returns list of all available languages (lang codes) for a talk.\"\"\"\n",
    "        languages = re.findall(r'(?<=languageCode\\\":\\\")[\\w-]+', soup.text)\n",
    "        clean_lang = sorted(list(set(languages)))\n",
    "        return clean_lang\n",
    "\n",
    "    def get_comments_count(self, soup):\n",
    "        \"\"\"Return the count of comments per talk.\"\"\"\n",
    "        try:\n",
    "            comments_count = re.search(r\"(?<=\\\"count\\\":)(\\d+)\", soup.text).group(1)\n",
    "        except AttributeError:\n",
    "            comments_count = None\n",
    "        return comments_count\n",
    "\n",
    "    def get_duration(self, soup):\n",
    "        \"\"\"Returns duration of a talk (format ex: 12M43S)\"\"\"\n",
    "        duration_tag = soup.find(attrs={'itemprop': 'duration'}).attrs['content']\n",
    "        duration = duration_tag.split('PT')[1]\n",
    "        return duration\n",
    "\n",
    "    def get_duration_sec(self, soup):\n",
    "        \"\"\"Returns duration of a talk in seconds.\"\"\"\n",
    "        duration =  re.search(r\"(?<=\\\"duration\\\":)(\\d+)\", soup.text).group(1)\n",
    "        return duration\n",
    "\n",
    "    def get_topic_tags(self, soup):\n",
    "        \"\"\"Returns list of tags (topics) per talk.\"\"\"\n",
    "        match_obj = re.search(r\"\\\"tag\\\":\\\"(.*?)\\\"\", soup.text)\n",
    "        tags = match_obj.group(1).split(',')\n",
    "        return tags\n",
    "\n",
    "    def get_related_talks(self, soup):\n",
    "        \"\"\"Returns dict (keys: id & title) of related talks.\"\"\"\n",
    "        related_tag = re.search(r\"(?<=\\\"related_talks\\\":).*?]\", soup.text).group(0)\n",
    "        related_series = pd.read_json(related_tag)\n",
    "        related_talks = related_series.loc[:, ['id', 'title']].to_dict()\n",
    "        return related_talks\n",
    "\n",
    "    def get_talk_url(self, soup):\n",
    "        \"\"\"Returns url for each talk as a string.\"\"\"\n",
    "        talk_tag = soup.find(attrs={'property': 'og:url'}).attrs['content']\n",
    "        talk_url = talk_tag.split('/transcript')[0]\n",
    "        return talk_url\n",
    "\n",
    "    def get_talk_description(self, soup):\n",
    "        \"\"\"Returns description of the talk.\"\"\"\n",
    "        desc_tag = soup.find(attrs={'property': 'og:description'}).attrs['content']\n",
    "        talk_desc = desc_tag.split(': ', 1)[1]\n",
    "        return talk_desc\n",
    "\n",
    "    def get_transcript(self, soup):\n",
    "        \"\"\"Returns talk's transcript as a single string.\"\"\" \n",
    "        transcript = ''\n",
    "        transcript_strings = []\n",
    "        for div in soup.find_all('div', class_=\"Grid__cell flx-s:1 p-r:4\"):\n",
    "            for p in div.find_all('p'):\n",
    "                # add every string in the transcript to a list\n",
    "                transcript_strings.append(\" \".join(p.text.split()))\n",
    "            else:\n",
    "                # after all strings have been added, create a single transcript string\n",
    "                transcript = \" \".join(transcript_strings)\n",
    "        return transcript\n"
   ]
  },
  {
   "cell_type": "markdown",
   "metadata": {
    "Collapsed": "false",
    "heading_collapsed": true
   },
   "source": [
    "## URLs"
   ]
  },
  {
   "cell_type": "code",
   "execution_count": 50,
   "metadata": {
    "Collapsed": "false",
    "ExecuteTime": {
     "end_time": "2020-04-24T07:19:36.214636Z",
     "start_time": "2020-04-24T07:19:36.181907Z"
    },
    "hidden": true
   },
   "outputs": [],
   "source": [
    "class URLs(SoupMaker):\n",
    "    \"\"\"Get and process urls to scrape.\"\"\"\n",
    "\n",
    "    \n",
    "    def topics_url_param(self):\n",
    "        \"\"\"Returns string of the url query from topics parameter.\"\"\"\n",
    "        topics_param = ''\n",
    "        if self.topics != 'all':\n",
    "            if isinstance(self.topics, list):\n",
    "                for topic in self.topics:\n",
    "                    topics_param += ('&topics[]=' + topic)\n",
    "            else:\n",
    "                raise ValueError(\"'topics' param needs to be a list\")\n",
    "        return topics_param\n",
    "\n",
    "    def get_max_page(self):\n",
    "        \"\"\"Returns max pagination number from www.ted.com/talks.\"\"\"\n",
    "        page_num = [1]\n",
    "        # make soup from ted.com/talks with specified language\n",
    "        soup = self.make_soup(self.base_url + '&page=1&sort=newest')\n",
    "        # iterate through each pagination element and get the max\n",
    "        page_elem = soup.find_all('a', class_='pagination__item pagination__link')\n",
    "        for element in page_elem:\n",
    "            page_num.append(int(element.text))\n",
    "        return max(page_num)\n",
    "    \n",
    "    def get_all_url_paths(self):\n",
    "        \"\"\"Returns list of all the talk url paths available in www.ted.com/talks\"\"\"\n",
    "        url_path_list = []\n",
    "        # construct url with lang code specified by the user\n",
    "        talks_url = (self.base_url + '&page=')\n",
    "        # set range from 1 to the max page in the pagination element\n",
    "        page_range = range(1, self.get_max_page()+1)\n",
    "        # iterate through each page and get the url for each talk\n",
    "        for i in page_range:\n",
    "            # try a second attempt if first attempt fails\n",
    "            for attempt in range(2):\n",
    "                try:\n",
    "                    talks_page_url = talks_url + str(i) + '&sort=newest'\n",
    "                    soup = self.make_soup(talks_page_url)\n",
    "                    # delay between searches\n",
    "                    self.sleep_short()\n",
    "                    for div in soup.find_all('div', attrs={'class': 'media__image'}):\n",
    "                        for a in div.find_all('a'):\n",
    "                            url_path_list.append(a.get('href'))\n",
    "                except:\n",
    "                    # delay before continuing to second attempt\n",
    "                    self.sleep_long()\n",
    "                # break from attempts loop if no exceptions are raised\n",
    "                else:\n",
    "                    break\n",
    "        return url_path_list\n",
    "\n",
    "    def get_all_urls(self):\n",
    "        \"\"\"Returns list of complete urls for each talk's transcript page.\"\"\"\n",
    "        # '/talks/jen_gunter_why_can_t_we_talk_about_periods?language=fa'\n",
    "        url_list = []\n",
    "        for url in self.get_all_url_paths():\n",
    "            url_list.append(('https://www.ted.com'\n",
    "                             + url.replace(\n",
    "                                 # to replace\n",
    "                                 '?language=' + self.lang_code,\n",
    "                                 # replace with\n",
    "                                 '/transcript' + '?language=' + self.lang_code)\n",
    "                            ))\n",
    "        return url_list\n",
    "    \n",
    "    def clean_urls(self, urls):\n",
    "        \"\"\"Returns list of clean urls from urls the user inputs.\"\"\"\n",
    "        clean_urls = []\n",
    "        for idx, url in enumerate(urls):\n",
    "            if url.startswith('https://www.ted.com/talks'):\n",
    "                parts = url.split('/')\n",
    "                joined = '/'.join(parts[:5])\n",
    "                clean = joined.split('?')\n",
    "                lang = clean[0] + '/transcript?language=' + self.lang_code\n",
    "                topic = lang + self.topics_url_param()\n",
    "                clean_urls.append(lang)\n",
    "            else:\n",
    "                print(f'bad url @ {idx} >> {url}')\n",
    "                continue\n",
    "        return clean_urls\n",
    "    \n",
    "    def url_issues(self):\n",
    "        \"\"\"Returns DataFrame of urls with known issues.\"\"\"\n",
    "        issues_df = pd.read_csv('../data/urls_issues.csv')\n",
    "        return issues_df\n",
    "    \n",
    "    def remove_urls_with_issues(self):\n",
    "        \"\"\"Remove urls with known issues to prevent unnecessary scraping.\"\"\"\n",
    "        urls = self.url_attribute()\n",
    "        final_urls = []\n",
    "        removed_urls = []\n",
    "        removed_counter = 0\n",
    "        issues_df = pd.read_csv('../data/urls_issues.csv')\n",
    "        for url in urls:\n",
    "            try:\n",
    "                base_url = url.replace('transcript?language=' + self.lang_code, '')\n",
    "                # is base url in the issues df?\n",
    "                url_in_issues = (issues_df['url'] == base_url).any()\n",
    "                # get the lang_codes of the base_url\n",
    "                langs = issues_df.loc[issues_df['url'] == base_url, 'lang_code']\n",
    "                # check if the url in issues_df\n",
    "                if not url_in_issues:\n",
    "                    final_urls.append(url)\n",
    "                # if the url is in issues_df, check if it's for the same lang_code\n",
    "                elif self.lang_code in langs.any():\n",
    "                    removed_urls.append(url)\n",
    "                    removed_counter += 1\n",
    "                    continue\n",
    "                else:\n",
    "                    final_urls.append(url)\n",
    "            except:\n",
    "                removed_urls.append(url)\n",
    "                removed_counter += 1\n",
    "                continue\n",
    "        if removed_urls:\n",
    "            print(f\"Removed the following {removed_counter} urls as they have \"\n",
    "                  \"known issues:\\n\", removed_urls, end='\\n\\n')\n",
    "        return final_urls\n"
   ]
  },
  {
   "cell_type": "markdown",
   "metadata": {
    "Collapsed": "false"
   },
   "source": [
    "## TEDscraper"
   ]
  },
  {
   "cell_type": "code",
   "execution_count": 51,
   "metadata": {
    "Collapsed": "false",
    "ExecuteTime": {
     "end_time": "2020-04-24T07:32:19.545188Z",
     "start_time": "2020-04-24T07:32:19.494574Z"
    }
   },
   "outputs": [],
   "source": [
    "class TEDscraper(TalkFeatures, URLs):\n",
    "    \"\"\"Gets urls and scrapes TED talk data in the specified language.\n",
    "\n",
    "    Attributes:\n",
    "        lang_code (str): Language code. Defaults to 'en'.\n",
    "        language (str): Language name derived from lang_code.\n",
    "        urls (list): URLs of talks. Defaults to 'all'.\n",
    "        topics (list): Talk topics. Defaults to 'all'.\n",
    "        exclude (bool): Exclude transcript. Defaults to False.\n",
    "        ted_dict (dict): Dict to store ted talk features after scraping.\n",
    "        dict_id (int): Index of nested dict in 'ted_dict'.\n",
    "        failed_counter: Counts urls that failed to get scraped.\n",
    "    \"\"\"\n",
    "    \n",
    "\n",
    "    def __init__(self, lang_code='en', urls='all', topics='all', exclude_transcript=False):\n",
    "        self.lang_code = lang_code\n",
    "        self.language = self.convert_lang_code()\n",
    "        self.urls = urls\n",
    "        self.topics = topics\n",
    "        self.exclude = exclude_transcript\n",
    "        self.ted_dict = {}\n",
    "        self.dict_id = 0\n",
    "        self.failed_counter = 0\n",
    "        self.base_url = ('https://www.ted.com/talks'\n",
    "                         + '?language=' + self.lang_code\n",
    "                         + self.topics_url_param())\n",
    "        \n",
    "    def url_attribute(self):\n",
    "        \"\"\"Define urls attribute based on parameter 'urls'.\"\"\"\n",
    "        # define url attribute\n",
    "        if self.urls == 'all':\n",
    "            urls = self.get_all_urls()\n",
    "        else:\n",
    "            if isinstance(self.urls, list):\n",
    "                urls = self.clean_urls(self.urls)\n",
    "            else:\n",
    "                raise ValueError(\"'urls' param needs to be a list\")\n",
    "        return urls\n",
    "\n",
    "    def convert_lang_code(self):\n",
    "        \"\"\"Reads languages.csv and returns language.\n",
    "        Parameters:\n",
    "            lang_code (str): Language code\n",
    "        \"\"\"\n",
    "        df = pd.read_csv('../data/languages.csv')\n",
    "        lang_series = df.loc[(df['lang_code'] == self.lang_code), 'language']\n",
    "        language = lang_series.values[0]\n",
    "        return language\n",
    "    \n",
    "    def scrape_all_features(self, soup):\n",
    "        \"\"\"Scrapes all features to a nested dict.\"\"\"\n",
    "        # create nested dict\n",
    "        self.ted_dict[self.dict_id] = {}\n",
    "        nested_dict = self.ted_dict[self.dict_id]\n",
    "        # add the features to the nested dict\n",
    "        nested_dict['talk_id'] = self.get_talk_id(soup)\n",
    "        nested_dict['title'] = self.get_title(soup)\n",
    "        nested_dict['speakers'] = self.get_speakers(soup)\n",
    "        nested_dict['occupations'] = self.get_occupations(soup)\n",
    "        nested_dict['about_speakers'] = self.get_about_speakers(soup)\n",
    "        nested_dict['views'] = self.get_views(soup)\n",
    "        nested_dict['recorded_date'] = self.get_recorded_date(soup)\n",
    "        nested_dict['published_date'] = self.get_published_date(soup)\n",
    "        nested_dict['event'] = self.get_event(soup)\n",
    "        nested_dict['native_lang'] = self.get_native_lang(soup)\n",
    "        nested_dict['available_lang'] = self.get_available_lang(soup)\n",
    "        nested_dict['comments'] = self.get_comments_count(soup)\n",
    "        nested_dict['duration'] = self.get_duration(soup)\n",
    "        nested_dict['duration_sec'] = self.get_duration_sec(soup)\n",
    "        nested_dict['topic_tags'] = self.get_topic_tags(soup)\n",
    "        nested_dict['related_talks'] = self.get_related_talks(soup)\n",
    "        nested_dict['talk_url'] = self.get_talk_url(soup)\n",
    "        nested_dict['talk_description'] = self.get_talk_description(soup)\n",
    "        # add transcript if param is set to False (default)\n",
    "        if not self.exclude:\n",
    "            nested_dict['transcript'] = self.get_transcript(soup)\n",
    "        return nested_dict\n",
    "\n",
    "    def get_data(self):\n",
    "        \"\"\"Returns nested dictionary of features from each talk's transcript page.\"\"\"\n",
    "        print(\"Fetching all urls...\")\n",
    "        # define url attribute\n",
    "        urls = self.remove_urls_with_issues()\n",
    "        print(f\"Scraping {len(urls)} TED talks in '{self.language}'...\")\n",
    "        print(f\"Estimated time to complete is {round((.9*len(urls)/60), 1)} minutes\\n\")\n",
    "        # iterate through each ted talk transcript url\n",
    "        for url in urls:\n",
    "            # make soup\n",
    "            soup = self.make_soup(url)\n",
    "            # taste soup\n",
    "            taster = soup.title.text\n",
    "            bad_soup = re.search(r'404: Not Found', taster)\n",
    "            if bad_soup:\n",
    "                print(f\"\\nBad soup! TED might not have this talk available in \"\n",
    "                      f\"'{self.lang_code}'. Check the url\\n{url}\\n\")\n",
    "                self.failed_counter += 1\n",
    "                continue\n",
    "            # delay between searches\n",
    "            self.sleep_short()\n",
    "            # try up to three attempts to scrape data\n",
    "            for attempt in range(1, 3+1):\n",
    "                try:\n",
    "                    # create nested dict\n",
    "                    self.ted_dict[self.dict_id] = {}\n",
    "                    # scrape features and add to a nested dict\n",
    "                    self.scrape_all_features(soup)\n",
    "                    # indicate successful scrape\n",
    "                    print(self.dict_id, url)\n",
    "                    # add 1 to create a new nested dict\n",
    "                    self.dict_id += 1\n",
    "                except Exception as e:\n",
    "                    # if the last attempt fails, update the failed counter\n",
    "                    # and print the exception & talk url\n",
    "                    if attempt == 3:\n",
    "                        self.failed_counter += 1\n",
    "                        print(f'position: {self.dict_id}, exception: {e}, url: {url}\\n')\n",
    "                        continue\n",
    "                    # delay before another attempt\n",
    "                    self.sleep_long()\n",
    "                # break if no exceptions are raised\n",
    "                else:\n",
    "                    break\n",
    "        print(f\"\"\"\\nTed.com scraping results:\n",
    "            \\n\\t• Successful: {self.dict_id}\n",
    "            \\n\\t• Failed: {self.failed_counter}\\n\"\"\")\n",
    "        return self.ted_dict\n",
    "    \n",
    "    def to_dataframe(self, ted_dict):\n",
    "        \"\"\"Creates DataFrame object from dict.\"\"\"\n",
    "        df = pd.DataFrame.from_dict(ted_dict, orient='index')\n",
    "        return df\n"
   ]
  },
  {
   "cell_type": "markdown",
   "metadata": {
    "Collapsed": "false"
   },
   "source": [
    "# Testing"
   ]
  },
  {
   "cell_type": "code",
   "execution_count": 52,
   "metadata": {
    "Collapsed": "false"
   },
   "outputs": [],
   "source": [
    "urls = [\n",
    "    # should be removed\n",
    "    'https://www.ted.com/talks/zohreh_davoudi_are_we_living_in_a_simulation/',\n",
    "    'https://www.ted.com/talks/marcus_bullock_an_app_that_helps_incarcerated_people_stay_connected_to_their_families/transcript?language=en', # only in 'en'\n",
    "    'https://www.ted.com/talks/anton_garcia_abril_how_prefab_homes_can_transform_affordable_housing/',\n",
    "    \n",
    "    # good ones\n",
    "    'https://www.ted.com/talks/jorge_drexler_poetry_music_and_identity/transcript?language=en',\n",
    "    'https://www.ted.com/talks/sarah_kaminsky_my_father_the_forger/',\n",
    "]"
   ]
  },
  {
   "cell_type": "code",
   "execution_count": 53,
   "metadata": {
    "Collapsed": "false"
   },
   "outputs": [],
   "source": [
    "scraper = TEDscraper(urls=urls, lang_code='en')"
   ]
  },
  {
   "cell_type": "code",
   "execution_count": 54,
   "metadata": {
    "Collapsed": "false"
   },
   "outputs": [
    {
     "name": "stdout",
     "output_type": "stream",
     "text": [
      "Fetching all urls...\n",
      "Removed the following 3 urls as they have known issues:\n",
      " ['https://www.ted.com/talks/zohreh_davoudi_are_we_living_in_a_simulation/transcript?language=en', 'https://www.ted.com/talks/marcus_bullock_an_app_that_helps_incarcerated_people_stay_connected_to_their_families/transcript?language=en', 'https://www.ted.com/talks/anton_garcia_abril_how_prefab_homes_can_transform_affordable_housing/transcript?language=en']\n",
      "\n",
      "Scraping 2 TED talks in 'English'...\n",
      "Estimated time to complete is 0.0 minutes\n",
      "\n",
      "0 https://www.ted.com/talks/jorge_drexler_poetry_music_and_identity/transcript?language=en\n",
      "1 https://www.ted.com/talks/sarah_kaminsky_my_father_the_forger/transcript?language=en\n",
      "\n",
      "Ted.com scraping results:\n",
      "            \n",
      "\t• Successful: 2\n",
      "            \n",
      "\t• Failed: 0\n",
      "\n"
     ]
    },
    {
     "data": {
      "text/plain": [
       "{0: {'talk_id': '2777',\n",
       "  'title': 'Poetry, music and identity',\n",
       "  'speakers': {0: 'Jorge Drexler'},\n",
       "  'occupations': {0: ['musician', 'poet']},\n",
       "  'about_speakers': {0: 'Jorge Drexler is a musician and the first Uruguayan to win an Oscar. His music plays with genre and influence, combining subtle harmonies and regional styles with electronic effects.'},\n",
       "  'views': '1466387',\n",
       "  'recorded_date': '2017-04-24',\n",
       "  'published_date': '2017-05-10T15:15:23+00:00',\n",
       "  'event': 'TED2017',\n",
       "  'native_lang': 'es',\n",
       "  'available_lang': ['ar',\n",
       "   'en',\n",
       "   'es',\n",
       "   'fr',\n",
       "   'he',\n",
       "   'ko',\n",
       "   'nl',\n",
       "   'pt-br',\n",
       "   'ru',\n",
       "   'sr',\n",
       "   'th',\n",
       "   'zh-cn',\n",
       "   'zh-tw'],\n",
       "  'comments': '28',\n",
       "  'duration': '16M40S',\n",
       "  'duration_sec': '1000',\n",
       "  'topic_tags': ['composing',\n",
       "   'creativity',\n",
       "   'entertainment',\n",
       "   'guitar',\n",
       "   'culture',\n",
       "   'history',\n",
       "   'humanity',\n",
       "   'identity',\n",
       "   'language',\n",
       "   'live music',\n",
       "   'music',\n",
       "   'poetry',\n",
       "   'performance',\n",
       "   'South America',\n",
       "   'world cultures',\n",
       "   'TED en Español'],\n",
       "  'related_talks': {'id': {0: 2186,\n",
       "    1: 2684,\n",
       "    2: 2333,\n",
       "    3: 8588,\n",
       "    4: 1347,\n",
       "    5: 2792},\n",
       "   'title': {0: 'Math is forever',\n",
       "    1: 'An electrifying acoustic guitar performance',\n",
       "    2: \"Don't ask where I'm from, ask where I'm a local\",\n",
       "    3: 'A one-man musical phenomenon',\n",
       "    4: 'The secret structure of great talks',\n",
       "    5: 'How to find a wonderful idea'}},\n",
       "  'talk_url': 'https://www.ted.com/talks/jorge_drexler_poetry_music_and_identity',\n",
       "  'talk_description': 'One night in 2002, a friend gave Jorge Drexler the chorus to a song and challenged him to write the rest of it using a complex, poetic form known as the \"Décima.\" In this fascinating talk, Drexler examines the blended nature of identity, weaving together the history of the Décima with his own quest to write one. He closes the talk with a performance of the resulting song, \"La Milonga del Moro Judío.\" (In Spanish with English subtitles)',\n",
       "  'transcript': 'I\\'m going to tell you the story of a song. I was in Madrid one night in 2002 with my teacher and friend Joaquín Sabina, when he said he had something to give me. He said, \"Jorge, I have some lines that you need to put into a song. Take these down, take these down.\" I looked on the table but all I found was a circular coaster, on which I wrote the lines my teacher dictated. They were four lines that went like this: \"I am a Jewish Moor living among Christians I don\\'t know who my God is, nor who my brothers are.\" Those lines really made an impression on me. I said, \"What beautiful lyrics, Joaquín. Did you write them?\" He said no, they were by another composer named Chicho Sánchez Ferlosio, who was less known than Joaquín, but also a great poet. These lines came to me at a time where I had been wanting to express something for a while, but didn\\'t quite know how. I was getting up to leave and go home to write, when Joaquín stopped me and said, \"Hang on, hang on,\" and presented me with this challenge: \"Write the stanzas for this song in Décimas.\" Now, at this point in my life, I still wasn\\'t completely sure what Décimas were, but I was too embarrassed to tell my teacher I didn\\'t know. So I put on my best \"Yeah, I totally understand\" face, and went home to look up what Décimas were. I learned that a Décima is a type of verse that only exists in Spanish, and that it has 10 lines. It\\'s very, very complex — perhaps the most complex style of stanza that we have in Spanish. It also has a very concrete date of origin, which is very rare for a style of stanza. The Décima was invented in Spain in 1591, by a guy named Vicente Espinel, a musician and poet from Málaga. And listen to this coincidence: he was the same guy who added the sixth string to what would later be called the Spanish guitar. This string right here — it\\'s called the \"bordona.\" From Spain, the Décima, with its 10 lines, crosses over to America, just like the Spanish guitar, but in contrast to the Décima, the Spanish guitar continues to live today on both sides of the Atlantic. But the Décima, in Spain, its birthplace, disappeared; it died out. It died out about 200 years ago, and yet in Latin America, from Mexico to Chile, all our countries maintain some form of the Décima in our popular traditions. In each place, they\\'ve given it a different name, and set it to different music. It has a lot of different names — more than 20 in total on the continent. In Mexico, for example, it\\'s called the \"Son Jarocho,\" \"Canto de mejorana\" in Panama; \"Galerón\" in Venezuela; \"Payada\" in Uruguay and Argentina; \"Repentismo\" in Cuba. In Peru, they call it the Peruvian Décima, because the Décima becomes so integrated into our traditions, that if someone asks, people from each place are completely convinced that the Décima was invented in their country. (Laughter) It\\'s also got a really surprising feature, which is that despite the fact that it developed independently in each of the different countries, it maintains even today, 400 years after its creation, exactly the same rhyme, syllable and line structure — the same structure Vicente Espinel gave it during the Spanish Baroque period. Here\\'s the structure — I\\'ll give you the basic idea and then later you can look online and learn more about it. The Décima is ten lines long; each line has eight syllables. The first line rhymes with the fourth and the fifth; the second line, with the third; the sixth line, with the seventh and the tenth; and the eighth line rhymes with the ninth. It\\'s a bit complicated, to be honest. And me — imagine me, trying to write in Décimas. But it\\'s not as complicated as it seems. Plus, it\\'s amazing that it\\'s survived with the same structure for more than four centuries. It\\'s not that complicated, because it has an impressive musicality to it, a type of musicality that\\'s very hard to describe technically. I prefer that you listen to it. So I\\'m going to recite a Décima, one of the Décimas that I wrote for this song. I\\'m going to ask that you concentrate just on the musicality of the rhymes. For those of you with headphones on — I see that some of you are listening to the translation — please take them off for a minute. (English) Take your headphones off, it you have them. (English) Forget about the meaning of the words for a few seconds, (English) and then you\\'ll put them back. (English) Forget about the structure. (Spanish) Forget about the structure. (English) And just ... it\\'s all about the choreography of sound of the Décima. (Spanish) A choreography of sound. (Sings in Spanish) \"There is not one death that does not cause me pain, there are no winners, here’s nothing but suffering and another life blown away. War is a terrible school no matter what the disguise, forgive me for not enlisting under any flag, any daydream is worth more than a sad piece of cloth.\" That\\'s a Décima. (English) You can put your headphones back on. (Applause) (English) Thank you. (Applause) I also applaud Vicente Espinel, because here it is 426 years later, and the Décima lives on everywhere in its original state. I wrote three like that one; you just heard the second. I wrote the first one having only recently learned how, and it has some errors in terms of meter, so it\\'s not presentable in its current state. But the one I sang was good, more or less. So: What was it about? What was the meaning behind those lines? I had just returned from doing a concert in Israel, and I was very emotional over a problem that hits really close to home, which is the Israeli-Palestinian conflict. I\\'ll explain: my dad\\'s family is Jewish, and my mom\\'s family are non-practicing Christians. I was raised in a home where the two traditions lived together more or less in harmony. It wasn\\'t unusual to see my Jewish grandpa dressed as Santa Claus, for example, or to see my non-Jewish grandpa at the synagogue wearing his kippah, at family celebrations, wearing the same expression that I probably had when Sabina told me — (Laughter) that he had some Décima lines for me. For someone raised in that kind of environment, it\\'s especially painful to see the difficulty the opposing parties have in putting themselves in the other side\\'s shoes even for a moment. So that\\'s what I wrote about. I already had the lyrics, I had the form — the Décima — and the content. I needed to write the music. I\\'ll give you some context. I had only recently moved from Uruguay, where I\\'m from, to Spain. And I was feeling very raw with nostalgia, like many of you here, who are away from home. And I wanted my song to be very, very Uruguayan, the most Uruguayan type of song there is — the milonga. So now, I had been studying the Décima, and after finding out that everyone tried to claim the Décima as their own, that it was invented in their country, it made me wonder: What does it mean when we say the milonga is Uruguayan? The milonga has a rhythmic pattern that we musicians call 3-3-2. (Counts out the beats) One two three, one two three, one two. And it has a characteristic emphasis. (Sings) But this characteristic rhythm pattern comes from Africa. In the ninth century you could find it in the brothels of Persia, and in the thirteenth, in Spain, from where, five centuries later, it would cross over to America with the African slaves. Meanwhile, in the Balkans, it encounters the Roma scale — (Sings) which in part, gives birth to klezmer music, which Ukrainian Jewish immigrants bring to Brooklyn, New York. They sing it in their banquet halls. (Sings \"Hava Nagila\") And their neighbor, an Argentine kid of Italian origin named Astor Piazzolla, hears it, assimilates it and transforms the tango of the second half of the 20th century with his ... (Counts out the beats) One two three, one two three, one two. (Sings \"Adios Nonino\") He also played it on his bandoneon, a 19th-century German instrument created for churches that couldn\\'t afford to buy organs, and that ends up, incredibly, in Río de la Plata, forming the very essence of the tango and the milonga, in the very same way another instrument just as important as the bandoneon did: the Spanish guitar. (Applause) To which, by the way, Vicente Espinel, in the 16th century, added a sixth string. It\\'s amazing how all these things are coming full circle. What have I learned in these 15 years since the song was born from going all over the world with four lines written on a coaster from a bar in Madrid? That Décimas, the milonga, songs, people — the closer you get to them, the more complex their identity becomes, and the more nuances and details appear. I learned that identity is infinitely dense, like an infinite series of real numbers, and that even if you get very close and zoom in, it never ends. Before I sing you a song and say goodbye, allow me to tell you one last story. Not long ago, we were in Mexico after a concert. And since the concert promoters know me, they knew I was a Décima freak and that everywhere I go I ask about it, insisting on hearing Décima artists. So they organized a son jarocho show for me at their house. If you recall, the son jarocho is one of the styles of music that uses Décimas in its verses. When these amazing musicians finished playing what is for me, something amazing, which is the son jarocho, they finished playing and were ... I went up to greet them, really excited, getting ready to thank them for their gift of music, and this young kid says to me — and he says it with the best of intentions — he says, \"We\\'re very proud, sir, to be keeping alive the purest origins of our Mexican identity.\" And to tell you the truth, I didn\\'t really know what to say. (Laughter) I stood there looking at him. I gave him a hug and left, but ... (Laughter) But he was right, too, though. Right? In reality, the Décima is its origin, but at the same time, just like in the milonga and in the Décima, are the roots of many more cultures from all over the place, like he said. Later, when I got back to the hotel, I thought about it for a while. And I thought: things only look pure if you look at them from far away. It\\'s very important to know about our roots, to know where we come from, to understand our history. But at the same time, as important as knowing where we\\'re from, is understanding that deep down, we\\'re not completely from one place, and a little from everywhere. Thank you very much. (Applause) This is \"The milonga of the Jewish Moor.\" (Music) (Sings) For every wall a lament in Jerusalem the golden and 1000 wasted lives for every commandment. I am dust in your wind and although I bleed through your wound, and every beloved stone has my deepest affection, there is not a stone in the world worth more than a human life. I am a Jewish Moor who lives among Christians I don\\'t know who my God is, nor who my brothers are. I don\\'t know who my God is, nor who my brothers are. There is not one death that does not cause me pain, there are no winners there\\'s nothing but suffering and another life blown away. War is a terrible school no matter what the disguise, forgive me for not enlisting under any flag, any daydream is worth more than a sad piece of cloth. I am a Jewish Moor who lives among Christians I don\\'t know who my God is, nor who my brothers are. I don\\'t know who my God is, nor who my brothers are. And nobody has my permission for killing in my name, a man is but a man and if there is a God, this was his wish, the very ground I tread will live on, once I am gone on my way to oblivion, and all doctrines will suffer the same fate, and there is not one nation that has not proclaimed itself the chosen people. I am a Jewish Moor who lives among Christians I don\\'t know who my God is, nor who my brothers are. I don\\'t know who my God is, nor who my brothers are. I am a Jewish Moor who lives among Christians (Applause) Thank you. (Applause)'},\n",
       " 1: {'talk_id': '1120',\n",
       "  'title': 'My father the forger',\n",
       "  'speakers': {0: 'Sarah Kaminsky'},\n",
       "  'occupations': {0: ['actor and writer']},\n",
       "  'about_speakers': {0: 'Sarah Kaminsky writes about her father, Adolfo Kaminsky, a forger with a mission.'},\n",
       "  'views': '662490',\n",
       "  'recorded_date': '2010-01-30',\n",
       "  'published_date': '2011-09-07T01:01:00+00:00',\n",
       "  'event': 'TEDxParis 2010',\n",
       "  'native_lang': 'fr',\n",
       "  'available_lang': ['ar',\n",
       "   'bg',\n",
       "   'cs',\n",
       "   'de',\n",
       "   'el',\n",
       "   'en',\n",
       "   'es',\n",
       "   'fa',\n",
       "   'fr',\n",
       "   'he',\n",
       "   'hr',\n",
       "   'hu',\n",
       "   'hy',\n",
       "   'id',\n",
       "   'it',\n",
       "   'ja',\n",
       "   'ko',\n",
       "   'nl',\n",
       "   'pl',\n",
       "   'pt',\n",
       "   'pt-br',\n",
       "   'ro',\n",
       "   'ru',\n",
       "   'sl',\n",
       "   'sr',\n",
       "   'tr',\n",
       "   'uk',\n",
       "   'vi',\n",
       "   'zh-cn',\n",
       "   'zh-tw'],\n",
       "  'comments': '111',\n",
       "  'duration': '14M',\n",
       "  'duration_sec': '840',\n",
       "  'topic_tags': ['TEDx',\n",
       "   'culture',\n",
       "   'entertainment',\n",
       "   'global issues',\n",
       "   'history',\n",
       "   'storytelling',\n",
       "   'war'],\n",
       "  'related_talks': {'id': {0: 652, 1: 917, 2: 592, 3: 2074, 4: 363, 5: 54214},\n",
       "   'title': {0: 'The danger of a single story',\n",
       "    1: 'The politics of fiction',\n",
       "    2: 'Escaping the Khmer Rouge',\n",
       "    3: 'How our stories cross over',\n",
       "    4: 'Lessons from past presidents',\n",
       "    5: 'The profound power of an authentic apology'}},\n",
       "  'talk_url': 'https://www.ted.com/talks/sarah_kaminsky_my_father_the_forger',\n",
       "  'talk_description': 'Sarah Kaminsky tells the extraordinary story of her father Adolfo and his activity during World War II -- using his ingenuity and talent for forgery to save lives.',\n",
       "  'transcript': 'I am the daughter of a forger, not just any forger ... When you hear the word \"forger,\" you often understand \"mercenary.\" You understand \"forged currency,\" \"forged pictures.\" My father is no such man. For 30 years of his life, he made false papers — never for himself, always for other people, and to come to the aid of the persecuted and the oppressed. Let me introduce him. Here is my father at age 19. It all began for him during World War II, when at age 17 he found himself thrust into a forged documents workshop. He quickly became the false papers expert of the Resistance. And it\\'s not a banal story — after the liberation he continued to make false papers until the \\'70s. When I was a child I knew nothing about this, of course. This is me in the middle making faces. I grew up in the Paris suburbs and I was the youngest of three children. I had a \"normal\" dad like everybody else, apart from the fact that he was 30 years older than ... well, he was basically old enough to be my grandfather. Anyway, he was a photographer and a street educator, and he always taught us to obey the law very strictly. And, of course, he never talked about his past life when he was a forger. There was, however, an incident I\\'m going to tell you about, that perhaps could have led me suspect something. I was in high school and got a bad grade, a rare event for me, so I decided to hide it from my parents. In order to do that, I set out to forge their signature. I started working on my mother\\'s signature, because my father\\'s is absolutely impossible to forge. So, I got working. I took some sheets of paper and started practicing, practicing, practicing, until I reached what I thought was a steady hand, and went into action. Later, while checking my school bag, my mother got hold of my school assignment and immediately saw that the signature was forged. She yelled at me like she never had before. I went to hide in my bedroom, under the blankets, and then I waited for my father to come back from work with, one could say, much apprehension. I heard him come in. I remained under the blankets. He entered my room, sat on the corner of the bed, and he was silent, so I pulled the blanket from my head, and when he saw me he started laughing. He was laughing so hard, he could not stop and he was holding my assignment in his hand. Then he said, \"But really, Sarah, you could have worked harder! Can\\'t you see it\\'s really too small?\" Indeed, it\\'s rather small. I was born in Algeria. There I would hear people say my father was a \"moudjahid\" and that means \"fighter.\" Later on, in France, I loved eavesdropping on grownups\\' conversations, and I would hear all sorts of stories about my father\\'s previous life, especially that he had \"done\" World War II, that he had \"done\" the Algerian war. And in my head I would be thinking that \"doing\" a war meant being a soldier. But knowing my father, and how he kept saying that he was a pacifist and non-violent, I found it very hard to picture him with a helmet and gun. And indeed, I was very far from the mark. One day, while my father was working on a file for us to obtain French nationality, I happened to see some documents that caught my attention. These are real! These are mine, I was born an Argentinean. But the document I happened to see that would help us build a case for the authorities was a document from the army that thanked my father for his work on behalf of the secret services. And then, suddenly, I went \"wow!\" My father, a secret agent? It was very James Bond. I wanted to ask him questions, which he didn\\'t answer. And later, I told myself that one day I would have to question him. And then I became a mother and had a son, and finally decided it was time — that he absolutely had to talk to us. I had become a mother and he was celebrating his 77th birthday, and suddenly I was very, very afraid. I feared he\\'d go and take his silences with him, and take his secrets with him. I managed to convince him that it was important for us, but possibly also for other people that he shared his story. He decided to tell it to me and I made a book, from which I\\'m going to read you some excerpts later. So, his story. My father was born in Argentina. His parents were of Russian descent. The whole family came to settle in France in the \\'30s. His parents were Jewish, Russian and above all, very poor. So at the age of 14 my father had to work. And with his only diploma, his primary education certificate, he found himself working at a dyer - dry cleaner. That\\'s where he discovered something totally magical, and when he talks about it, it\\'s fascinating — it\\'s the magic of dyeing chemistry. During that time the war was happening and his mother was killed when he was 15. This coincided with the time when he threw himself body and soul into chemistry because it was the only consolation for his sadness. All day he would ask many questions to his boss to learn, to accumulate more and more knowledge, and at night, when no one was looking, he\\'d put his experience to practice. He was mostly interested in ink bleaching. All this to tell you that if my father became a forger, actually, it was almost by accident. His family was Jewish, so they were hounded. Finally they were all arrested and taken to the Drancy camp and they managed to get out at the last minute thanks to their Argentinean papers. Well, they were out, but they were always in danger. The big \"Jew\" stamp was still on their papers. It was my grandfather who decided they needed false documents. My father had been instilled with such respect for the law that although he was being persecuted, he\\'d never thought of false papers. But it was he who went to meet a man from the Resistance. In those times documents had hard covers, they were filled in by hand, and they stated your job. In order to survive, he needed to be working. He asked the man to write \"dyer.\" Suddenly the man looked very, very interested. As a \"dyer,\" do you know how to bleach ink marks? Of course he knew. And suddenly the man started explaining that actually the whole Resistance had a huge problem: even the top experts could not manage to bleach an ink, called \"indelible,\" the \"Waterman\" blue ink. And my father immediately replied that he knew exactly how to bleach it. Now, of course, the man was very impressed with this young man of 17 who could immediately give him the formula, so he recruited him. And actually, without knowing it, my father had invented something we can find in every schoolchild\\'s pencil case: the so-called \"correction pen.\" (Applause) But it was only the beginning. That\\'s my father. As soon as he got to the lab, even though he was the youngest, he immediately saw that there was a problem with the making of forged documents. All the movements stopped at falsifying. But demand was ever-growing and it was difficult to tamper with existing documents. He told himself it was necessary to make them from scratch. He started a press. He started photoengraving. He started making rubber stamps. He started inventing all kind of things — with some materials he invented a centrifuge using a bicycle wheel. Anyway, he had to do all this because he was completely obsessed with output. He had made a simple calculation: In one hour he could make 30 forged documents. If he slept one hour, 30 people would die. This sense of responsibility for other people\\'s lives when he was just 17 — and also his guilt for being a survivor, since he had escaped the camp when his friends had not — stayed with him all his life. And this is maybe what explains why, for 30 years, he continued to make false papers at the expense of all kinds of sacrifices. I\\'d like to talk about those sacrifices, because there were many. There were obviously financial sacrifices because he always refused to be paid. To him, being paid would have meant being a mercenary. If he had accepted payment, he wouldn\\'t be able to say \"yes\" or \"no\" depending on what he deemed a just or unjust cause. So he was a photographer by day, and a forger by night for 30 years. He was broke all of the time. Then there were the emotional sacrifices: How can one live with a woman while having so many secrets? How can one explain what one does at night in the lab, every single night? Of course, there was another kind of sacrifice involving his family that I understood much later. One day my father introduced me to my sister. He also explained to me that I had a brother, too, and the first time I saw them I must have been three or four, and they were 30 years older than me. They are both in their sixties now. In order to write the book, I asked my sister questions. I wanted to know who my father was, who was the father she had known. She explained that the father that she\\'d had would tell them he\\'d come and pick them up on Sunday to go for a walk. They would get all dressed up and wait for him, but he would almost never come. He\\'d say, \"I\\'ll call.\" He wouldn\\'t call. And then he would not come. Then one day he totally disappeared. Time passed, and they thought he had surely forgotten them, at first. Then as time passed, at the end of almost two years, they thought, \"Well, perhaps our father has died.\" And then I understood that asking my father so many questions was stirring up a whole past he probably didn\\'t feel like talking about because it was painful. And while my half brother and sister thought they\\'d been abandoned, orphaned, my father was making false papers. And if he did not tell them, it was of course to protect them. After the liberation he made false papers to allow the survivors of concentration camps to immigrate to Palestine before the creation of Israel. And then, as he was a staunch anti-colonialist, he made false papers for Algerians during the Algerian war. After the Algerian war, at the heart of the international resistance movements, his name circulated and the whole world came knocking at his door. In Africa there were countries fighting for their independence: Guinea, Guinea-Bissau, Angola. And then my father connected with Nelson Mandela\\'s anti-apartheid party. He made false papers for persecuted black South Africans. There was also Latin America. My father helped those who resisted dictatorships in the Dominican Republic, Haiti, and then it was the turn of Brazil, Argentina, Venezuela, El Salvador, Nicaragua, Colombia, Peru, Uruguay, Chile and Mexico. Then there was the Vietnam War. My father made false papers for the American deserters who did not wish to take up arms against the Vietnamese. Europe was not spared either. My father made false papers for the dissidents against Franco in Spain, Salazar in Portugal, against the colonels\\' dictatorship in Greece, and even in France. There, just once, it happened in May of 1968. My father watched, benevolently, of course, the demonstrations of the month of May, but his heart was elsewhere, and so was his time because he had over 15 countries to serve. Once, though, he agreed to make false papers for someone you might recognize. (Laughter) He was much younger in those days, and my father agreed to make false papers to enable him to come back and speak at a meeting. He told me that those false papers were the most media-relevant and the least useful he\\'d had to make in all his life. But, he agreed to do it, even though Daniel Cohn-Bendit\\'s life was not in danger, just because it was a good opportunity to mock the authorities, and to show them that there\\'s nothing more porous than borders — and that ideas have no borders. All my childhood, while my friends\\' dads would tell them Grimm\\'s fairy tales, my father would tell me stories about very unassuming heroes with unshakeable utopias who managed to make miracles. And those heroes did not need an army behind them. Anyhow, nobody would have followed them, except for a handful [of] men and women of conviction and courage. I understood much later that actually it was his own story my father would tell me to get me to sleep. I asked him whether, considering the sacrifices he had to make, he ever had any regrets. He said no. He told me that he would have been unable to witness or submit to injustice without doing anything. He was persuaded, and he\\'s still convinced that another world is possible — a world where no one would ever need a forger. He\\'s still dreaming about it. My father is here in the room today. His name is Adolfo Kaminsky and I\\'m going to ask him to stand up. (Applause) Thank you.'}}"
      ]
     },
     "execution_count": 54,
     "metadata": {},
     "output_type": "execute_result"
    }
   ],
   "source": [
    "scraper.get_data()"
   ]
  },
  {
   "cell_type": "markdown",
   "metadata": {
    "Collapsed": "false"
   },
   "source": [
    "#### Errors\n",
    "* have a csv with urls with errors & clean (need both because some urls don't work for a specific language)\n",
    "    * if urls in errors CSV, continue (skip)\n",
    "    * else, see if it's in 'cached'\n",
    "        * if so, make a note that this will be used\n",
    "        * continue\n",
    "    * else, scrape\n",
    "    * merge new talks df with cached ones df\n",
    "\n",
    "When should the code above run?\n",
    "* After getting all urls / cleaning all urls (if urls are provided)\n",
    "How do I check all the urls efficiently?\n",
    "* check each url in urls_cached\n",
    "\n",
    "Creating the cached urls file\n",
    "* Start with blank file (first time)\n",
    "    * urls, languages\n",
    "* Add urls (without the lang) from a successful scrape to a df\n",
    "* Add the lang_\n",
    "code to the url column list\n",
    "    * There will be talks that are only available in certain languages\n",
    "* When a following scrape session is conducted, do the process again.\n",
    "    * Only add new urls to the file (prepend)\n",
    "* How to do it?\n",
    "    * create method (cache_data)\n",
    "    * Do this after creating a df...\n"
   ]
  },
  {
   "cell_type": "code",
   "execution_count": null,
   "metadata": {
    "Collapsed": "false"
   },
   "outputs": [],
   "source": [
    "def add_cache(df, lang_code='fr'):\n",
    "    \"\"\"Add scraped urls to CSV.\"\"\"\n",
    "    cached_df = pd.read_csv('../data/urls_test_cached.csv')\n",
    "    cached_urls = cached_df['url'].array\n",
    "    for url in df['talk_url']:\n",
    "        if url in cached_urls: # and lang_code in cached_langs:\n",
    "            cached_langs = cached_df.loc[cached_df['url'] == url, 'lang_code']\n",
    "            for code in cached_langs:\n",
    "                if lang_code not in code:\n",
    "                    # new lang_code\n",
    "                    cached_langs\n",
    "                    # add code to lang_code list\n",
    "                    cached_langs.update(pd.Series(['test'], \n",
    "                else:\n",
    "                    # get the data from dataset\n",
    "                    pass\n",
    "        else:\n",
    "            cached_df.append(url, list(lang_code))\n"
   ]
  },
  {
   "cell_type": "code",
   "execution_count": null,
   "metadata": {
    "Collapsed": "false"
   },
   "outputs": [],
   "source": [
    "df.head()"
   ]
  },
  {
   "cell_type": "markdown",
   "metadata": {
    "Collapsed": "false"
   },
   "source": [
    "Solution:\n",
    "When scraping, don't save them as a list, just do a string (en, es, fr, etc.) in which I can then use s.to_list()"
   ]
  },
  {
   "cell_type": "code",
   "execution_count": null,
   "metadata": {
    "Collapsed": "false"
   },
   "outputs": [],
   "source": [
    "cached_langs = cached_df.loc[cached_df['url'] == url, 'lang_code']\n",
    "for code in cached_langs:\n",
    "    if 'en' in code:\n",
    "        print('pass')"
   ]
  },
  {
   "cell_type": "code",
   "execution_count": null,
   "metadata": {
    "Collapsed": "false"
   },
   "outputs": [],
   "source": []
  },
  {
   "cell_type": "code",
   "execution_count": null,
   "metadata": {
    "Collapsed": "false"
   },
   "outputs": [],
   "source": []
  },
  {
   "cell_type": "markdown",
   "metadata": {
    "Collapsed": "false"
   },
   "source": [
    "### Support Code"
   ]
  },
  {
   "cell_type": "code",
   "execution_count": null,
   "metadata": {
    "Collapsed": "false"
   },
   "outputs": [],
   "source": [
    "def make_soup(url):\n",
    "    \"\"\"Returns soup object from a URL.\"\"\"\n",
    "    # generate random user-agent\n",
    "    user_agent = {'User-agent': UserAgent().random}\n",
    "    # request page and make soup\n",
    "    page = requests.get(url, headers=user_agent)\n",
    "    soup = BeautifulSoup(page.content, 'lxml')\n",
    "    return soup"
   ]
  },
  {
   "cell_type": "code",
   "execution_count": null,
   "metadata": {
    "Collapsed": "false"
   },
   "outputs": [],
   "source": [
    "# all features\n",
    "scraper.get_talk_id(soup)\n",
    "scraper.get_title(soup)\n",
    "scraper.get_speakers(soup)\n",
    "scraper.get_occupations(soup)\n",
    "scraper.get_about_speakers(soup)\n",
    "scraper.get_views(soup)\n",
    "scraper.get_recorded_date(soup)\n",
    "scraper.get_published_date(soup)\n",
    "scraper.get_event(soup)\n",
    "scraper.get_native_lang(soup)\n",
    "scraper.get_available_lang(soup)\n",
    "scraper.get_comments_count(soup)\n",
    "scraper.get_duration(soup)\n",
    "scraper.get_duration_sec(soup)\n",
    "scraper.get_topic_tags(soup)\n",
    "scraper.get_related_talks(soup)\n",
    "scraper.get_talk_url(soup)\n",
    "scraper.get_talk_description(soup)\n",
    "scraper.get_transcript(soup)\n",
    "\n",
    "scraper.get_title(soup)"
   ]
  },
  {
   "cell_type": "code",
   "execution_count": null,
   "metadata": {
    "Collapsed": "false"
   },
   "outputs": [],
   "source": [
    "# Test urls\n",
    "urls = [\n",
    "    'https://www.ted.com/talks/sarah_kaminsky_my_father_the_forger/',\n",
    "    'https://www.ted.com/talks/jorge_drexler_poetry_music_and_identity/transcript',\n",
    "    'https://www.ted.com/talks/sir_ken_robinson_do_schools_kill_creativity/',\n",
    "    'https://www.ted.com/talks/paul_mceuen_and_marc_miskin_tiny_robots_with_giant_potential/transcript',\n",
    "    'https://www.ted.com/talks/antara_raychaudhuri_and_iseult_gillespie_the_legend_of_annapurna_hindu_goddess_of_nourishment/',\n",
    "    'https://www.ted.com/talks/diana_reiss_peter_gabriel_neil_gershenfeld_and_vint_cerf_the_interspecies_internet_an_idea_in_progress/',\n",
    "]"
   ]
  },
  {
   "cell_type": "code",
   "execution_count": null,
   "metadata": {
    "Collapsed": "false"
   },
   "outputs": [],
   "source": [
    "errors = [\n",
    "    'https://www.ted.com/talks/marcus_bullock_an_app_that_helps_incarcerated_people_stay_connected_to_their_families/transcript?language=en',\n",
    "    'https://www.ted.com/talks/marilyn_waring_the_unpaid_work_that_gdp_ignores_and_why_it_really_counts/',\n",
    "    'https://www.ted.com/talks/zohreh_davoudi_are_we_living_in_a_simulation/',\n",
    "    'https://www.ted.com/talks/maisie_williams_why_talent_carries_you_further_than_fame/',\n",
    "    'https://www.ted.com/talks/keith_lowe_why_we_need_to_stop_obsessing_over_world_war_ii/',\n",
    "    'https://www.ted.com/talks/anton_garcia_abril_how_prefab_homes_can_transform_affordable_housing/',\n",
    "]\n",
    "errors_sr = pd.Series(errors, name='errors_urls')"
   ]
  },
  {
   "cell_type": "code",
   "execution_count": null,
   "metadata": {
    "Collapsed": "false"
   },
   "outputs": [],
   "source": [
    "errors_sr.to_csv('../data/urls_errors.csv', index=False)"
   ]
  },
  {
   "cell_type": "markdown",
   "metadata": {
    "Collapsed": "false"
   },
   "source": [
    "## Known Issues\n",
    "\n",
    "#### Talks that weren't scraped\n",
    "* Talk is in English but has no English transcript\n",
    "    * https://www.ted.com/talks/marcus_bullock_an_app_that_helps_incarcerated_people_stay_connected_to_their_families/transcript?language=en\n",
    "* No 'recorded_date'\n",
    "    * https://www.ted.com/talks/marilyn_waring_the_unpaid_work_that_gdp_ignores_and_why_it_really_counts/\n",
    "* Speakers info is missing\n",
    "    * The name is available elsewhere, but not the occupation\n",
    "    * https://www.ted.com/talks/zohreh_davoudi_are_we_living_in_a_simulation/\n",
    "    * https://www.ted.com/talks/maisie_williams_why_talent_carries_you_further_than_fame/\n",
    "    * https://www.ted.com/talks/keith_lowe_why_we_need_to_stop_obsessing_over_world_war_ii/\n",
    "    * https://www.ted.com/talks/anton_garcia_abril_how_prefab_homes_can_transform_affordable_housing/\n"
   ]
  },
  {
   "cell_type": "code",
   "execution_count": null,
   "metadata": {
    "Collapsed": "false"
   },
   "outputs": [],
   "source": []
  }
 ],
 "metadata": {
  "kernelspec": {
   "display_name": "dev",
   "language": "python",
   "name": "dev"
  },
  "language_info": {
   "codemirror_mode": {
    "name": "ipython",
    "version": 3
   },
   "file_extension": ".py",
   "mimetype": "text/x-python",
   "name": "python",
   "nbconvert_exporter": "python",
   "pygments_lexer": "ipython3",
   "version": "3.7.7"
  },
  "toc": {
   "base_numbering": 1,
   "nav_menu": {},
   "number_sections": true,
   "sideBar": true,
   "skip_h1_title": false,
   "title_cell": "Table of Contents",
   "title_sidebar": "Contents",
   "toc_cell": false,
   "toc_position": {},
   "toc_section_display": true,
   "toc_window_display": false
  },
  "toc-showcode": false,
  "toc-showtags": false,
  "varInspector": {
   "cols": {
    "lenName": 16,
    "lenType": 16,
    "lenVar": 40
   },
   "kernels_config": {
    "python": {
     "delete_cmd_postfix": "",
     "delete_cmd_prefix": "del ",
     "library": "var_list.py",
     "varRefreshCmd": "print(var_dic_list())"
    },
    "r": {
     "delete_cmd_postfix": ") ",
     "delete_cmd_prefix": "rm(",
     "library": "var_list.r",
     "varRefreshCmd": "cat(var_dic_list()) "
    }
   },
   "types_to_exclude": [
    "module",
    "function",
    "builtin_function_or_method",
    "instance",
    "_Feature"
   ],
   "window_display": false
  }
 },
 "nbformat": 4,
 "nbformat_minor": 4
}
